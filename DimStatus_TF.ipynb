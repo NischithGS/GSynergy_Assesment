{
 "cells": [
  {
   "cell_type": "code",
   "execution_count": 0,
   "metadata": {
    "application/vnd.databricks.v1+cell": {
     "cellMetadata": {
      "byteLimit": 2048000,
      "rowLimit": 10000
     },
     "inputWidgets": {},
     "nuid": "6410b0f7-baa5-4e80-8fcb-73fbec95148d",
     "showTitle": false,
     "title": ""
    }
   },
   "outputs": [],
   "source": [
    "import pyspark\n",
    "from pyspark.sql.functions import *"
   ]
  },
  {
   "cell_type": "code",
   "execution_count": 0,
   "metadata": {
    "application/vnd.databricks.v1+cell": {
     "cellMetadata": {
      "byteLimit": 2048000,
      "rowLimit": 10000
     },
     "inputWidgets": {},
     "nuid": "423b6ab3-ae36-4444-b033-72f29111fb84",
     "showTitle": false,
     "title": ""
    }
   },
   "outputs": [],
   "source": [
    "spark.conf.set(\n",
    "    \"fs.azure.account.key.nnrgsblobacc.dfs.core.windows.net\",\n",
    "    \"KOC7m5T3SJnlbUb4P19ep2pbo2PIYAdadSUN9EOxSbcvp7y5OPOAR7ozRXFqnC2hJrh8WA1B+V3E+AStoZvUNQ==\"\n",
    ")"
   ]
  },
  {
   "cell_type": "code",
   "execution_count": 0,
   "metadata": {
    "application/vnd.databricks.v1+cell": {
     "cellMetadata": {
      "byteLimit": 2048000,
      "rowLimit": 10000
     },
     "inputWidgets": {},
     "nuid": "d0160e09-aca8-48ee-8b13-81de39f16972",
     "showTitle": false,
     "title": ""
    }
   },
   "outputs": [
    {
     "output_type": "display_data",
     "data": {
      "text/html": [
       "<style scoped>\n",
       "  .table-result-container {\n",
       "    max-height: 300px;\n",
       "    overflow: auto;\n",
       "  }\n",
       "  table, th, td {\n",
       "    border: 1px solid black;\n",
       "    border-collapse: collapse;\n",
       "  }\n",
       "  th, td {\n",
       "    padding: 5px;\n",
       "  }\n",
       "  th {\n",
       "    text-align: left;\n",
       "  }\n",
       "</style><div class='table-result-container'><table class='table-result'><thead style='background-color: white'><tr><th>path</th><th>name</th><th>size</th><th>modificationTime</th></tr></thead><tbody><tr><td>abfss://assesment@nnrgsblobacc.dfs.core.windows.net/fact.averagecosts.dlm</td><td>fact.averagecosts.dlm</td><td>29142959</td><td>1713418287000</td></tr><tr><td>abfss://assesment@nnrgsblobacc.dfs.core.windows.net/fact.transactions.dlm</td><td>fact.transactions.dlm</td><td>380631122</td><td>1713418336000</td></tr><tr><td>abfss://assesment@nnrgsblobacc.dfs.core.windows.net/hier.clnd.dlm</td><td>hier.clnd.dlm</td><td>276119</td><td>1713418279000</td></tr><tr><td>abfss://assesment@nnrgsblobacc.dfs.core.windows.net/hier.hldy.dlm</td><td>hier.hldy.dlm</td><td>545</td><td>1713418278000</td></tr><tr><td>abfss://assesment@nnrgsblobacc.dfs.core.windows.net/hier.invloc.dlm</td><td>hier.invloc.dlm</td><td>2702</td><td>1713418278000</td></tr><tr><td>abfss://assesment@nnrgsblobacc.dfs.core.windows.net/hier.invstatus.dlm</td><td>hier.invstatus.dlm</td><td>17004</td><td>1713418279000</td></tr><tr><td>abfss://assesment@nnrgsblobacc.dfs.core.windows.net/hier.possite.dlm</td><td>hier.possite.dlm</td><td>5079</td><td>1713418279000</td></tr><tr><td>abfss://assesment@nnrgsblobacc.dfs.core.windows.net/hier.pricestate.dlm</td><td>hier.pricestate.dlm</td><td>157</td><td>1713418279000</td></tr><tr><td>abfss://assesment@nnrgsblobacc.dfs.core.windows.net/hier.prod.dlm</td><td>hier.prod.dlm</td><td>194621</td><td>1713418280000</td></tr><tr><td>abfss://assesment@nnrgsblobacc.dfs.core.windows.net/hier.rtlloc.dlm</td><td>hier.rtlloc.dlm</td><td>3456</td><td>1713418280000</td></tr></tbody></table></div>"
      ]
     },
     "metadata": {
      "application/vnd.databricks.v1+output": {
       "addedWidgets": {},
       "aggData": [],
       "aggError": "",
       "aggOverflow": false,
       "aggSchema": [],
       "aggSeriesLimitReached": false,
       "aggType": "",
       "arguments": {},
       "columnCustomDisplayInfos": {},
       "data": [
        [
         "abfss://assesment@nnrgsblobacc.dfs.core.windows.net/fact.averagecosts.dlm",
         "fact.averagecosts.dlm",
         29142959,
         1713418287000
        ],
        [
         "abfss://assesment@nnrgsblobacc.dfs.core.windows.net/fact.transactions.dlm",
         "fact.transactions.dlm",
         380631122,
         1713418336000
        ],
        [
         "abfss://assesment@nnrgsblobacc.dfs.core.windows.net/hier.clnd.dlm",
         "hier.clnd.dlm",
         276119,
         1713418279000
        ],
        [
         "abfss://assesment@nnrgsblobacc.dfs.core.windows.net/hier.hldy.dlm",
         "hier.hldy.dlm",
         545,
         1713418278000
        ],
        [
         "abfss://assesment@nnrgsblobacc.dfs.core.windows.net/hier.invloc.dlm",
         "hier.invloc.dlm",
         2702,
         1713418278000
        ],
        [
         "abfss://assesment@nnrgsblobacc.dfs.core.windows.net/hier.invstatus.dlm",
         "hier.invstatus.dlm",
         17004,
         1713418279000
        ],
        [
         "abfss://assesment@nnrgsblobacc.dfs.core.windows.net/hier.possite.dlm",
         "hier.possite.dlm",
         5079,
         1713418279000
        ],
        [
         "abfss://assesment@nnrgsblobacc.dfs.core.windows.net/hier.pricestate.dlm",
         "hier.pricestate.dlm",
         157,
         1713418279000
        ],
        [
         "abfss://assesment@nnrgsblobacc.dfs.core.windows.net/hier.prod.dlm",
         "hier.prod.dlm",
         194621,
         1713418280000
        ],
        [
         "abfss://assesment@nnrgsblobacc.dfs.core.windows.net/hier.rtlloc.dlm",
         "hier.rtlloc.dlm",
         3456,
         1713418280000
        ]
       ],
       "datasetInfos": [],
       "dbfsResultPath": null,
       "isJsonSchema": true,
       "metadata": {},
       "overflow": false,
       "plotOptions": {
        "customPlotOptions": {},
        "displayType": "table",
        "pivotAggregation": null,
        "pivotColumns": null,
        "xColumns": null,
        "yColumns": null
       },
       "removedWidgets": [],
       "schema": [
        {
         "metadata": "{}",
         "name": "path",
         "type": "\"string\""
        },
        {
         "metadata": "{}",
         "name": "name",
         "type": "\"string\""
        },
        {
         "metadata": "{}",
         "name": "size",
         "type": "\"long\""
        },
        {
         "metadata": "{}",
         "name": "modificationTime",
         "type": "\"long\""
        }
       ],
       "type": "table"
      }
     },
     "output_type": "display_data"
    }
   ],
   "source": [
    "#display(dbutils.fs.ls(\"abfss://assesment@nnrgsblobacc.dfs.core.windows.net\"))"
   ]
  },
  {
   "cell_type": "code",
   "execution_count": 0,
   "metadata": {
    "application/vnd.databricks.v1+cell": {
     "cellMetadata": {
      "byteLimit": 2048000,
      "rowLimit": 10000
     },
     "inputWidgets": {},
     "nuid": "067692a4-811b-4819-98a8-b6fd2bb52b57",
     "showTitle": false,
     "title": ""
    }
   },
   "outputs": [],
   "source": [
    "data = spark.read .option(\"header\", True).option(\"inferSchema\", True).option(\"delimiter\", \"|\").csv('abfss://assesment@nnrgsblobacc.dfs.core.windows.net/hier.invstatus.dlm')\n"
   ]
  },
  {
   "cell_type": "code",
   "execution_count": 0,
   "metadata": {
    "application/vnd.databricks.v1+cell": {
     "cellMetadata": {
      "byteLimit": 2048000,
      "rowLimit": 10000
     },
     "inputWidgets": {},
     "nuid": "899d300f-1cc7-4eb4-bd91-438c5a2e6e2d",
     "showTitle": false,
     "title": ""
    }
   },
   "outputs": [
    {
     "output_type": "display_data",
     "data": {
      "text/html": [
       "<style scoped>\n",
       "  .table-result-container {\n",
       "    max-height: 300px;\n",
       "    overflow: auto;\n",
       "  }\n",
       "  table, th, td {\n",
       "    border: 1px solid black;\n",
       "    border-collapse: collapse;\n",
       "  }\n",
       "  th, td {\n",
       "    padding: 5px;\n",
       "  }\n",
       "  th {\n",
       "    text-align: left;\n",
       "  }\n",
       "</style><div class='table-result-container'><table class='table-result'><thead style='background-color: white'><tr><th>code_id</th><th>code_label</th><th>bckt_id</th><th>bckt_label</th><th>ownrshp_id</th><th>ownrshp_label</th></tr></thead><tbody><tr><td>INV-880</td><td>In-Transit</td><td>IBIT</td><td>In-transit</td><td>IB</td><td>Inbound</td></tr><tr><td>INV-875</td><td>ASN</td><td>IBOO</td><td>On Order</td><td>IB</td><td>Inbound</td></tr><tr><td>INV-800</td><td>On Order</td><td>IBOO</td><td>On Order</td><td>IB</td><td>Inbound</td></tr><tr><td>INV-850</td><td>Store On Order</td><td>IBOO</td><td>On Order</td><td>IB</td><td>Inbound</td></tr><tr><td>INV-900</td><td>Available</td><td>OHAV</td><td>Available</td><td>OH</td><td>On Hand</td></tr><tr><td>INV-20</td><td>In Receiving</td><td>OHAV</td><td>Available</td><td>OH</td><td>On Hand</td></tr><tr><td>INV-01</td><td>New Item</td><td>OHFA</td><td>Future Available</td><td>OH</td><td>On Hand</td></tr><tr><td>INV-02</td><td>Shipments waiting for belts/buttons</td><td>OHFA</td><td>Future Available</td><td>OH</td><td>On Hand</td></tr><tr><td>INV-03</td><td>Item restricted for Q.A. problem</td><td>OHFA</td><td>Future Available</td><td>OH</td><td>On Hand</td></tr><tr><td>INV-06</td><td>Needs to go to cleaners</td><td>OHFA</td><td>Future Available</td><td>OH</td><td>On Hand</td></tr><tr><td>INV-07</td><td>Needs to go to sewing/alterations</td><td>OHFA</td><td>Future Available</td><td>OH</td><td>On Hand</td></tr><tr><td>INV-09</td><td>Waiting for coordinating pieces</td><td>OHFA</td><td>Future Available</td><td>OH</td><td>On Hand</td></tr><tr><td>INV-10</td><td>Missing parts</td><td>OHFA</td><td>Future Available</td><td>OH</td><td>On Hand</td></tr><tr><td>INV-1000</td><td>Cycle Count</td><td>OHFA</td><td>Future Available</td><td>OH</td><td>On Hand</td></tr><tr><td>INV-11</td><td>Add Packaging</td><td>OHFA</td><td>Future Available</td><td>OH</td><td>On Hand</td></tr><tr><td>INV-13</td><td>Retouch/Repair</td><td>OHFA</td><td>Future Available</td><td>OH</td><td>On Hand</td></tr><tr><td>INV-15</td><td>Mistag</td><td>OHFA</td><td>Future Available</td><td>OH</td><td>On Hand</td></tr><tr><td>INV-98</td><td>STORE returns</td><td>OHFA</td><td>Future Available</td><td>OH</td><td>On Hand</td></tr><tr><td>INV-999</td><td>Restricted - No reason</td><td>OHFA</td><td>Future Available</td><td>OH</td><td>On Hand</td></tr><tr><td>RET-11</td><td>RETURN TO STOCK</td><td>OHFA</td><td>Future Available</td><td>OH</td><td>On Hand</td></tr><tr><td>RET-12</td><td>RETURN TO STOCK RUGS</td><td>OHFA</td><td>Future Available</td><td>OH</td><td>On Hand</td></tr><tr><td>RET-130</td><td>SOFT Copley Place - STOCK RETURN</td><td>OHFA</td><td>Future Available</td><td>OH</td><td>On Hand</td></tr><tr><td>RET-21</td><td>PREPACK RTN TO STOCK</td><td>OHFA</td><td>Future Available</td><td>OH</td><td>On Hand</td></tr><tr><td>RET-22</td><td>PREPACK AS-IS</td><td>OHFA</td><td>Future Available</td><td>OH</td><td>On Hand</td></tr><tr><td>RET-23</td><td>PREPACK CREDIT VEND-DEFECTIVE</td><td>OHFA</td><td>Future Available</td><td>OH</td><td>On Hand</td></tr><tr><td>RET-24</td><td>PREPACK RETURN TO STOCK RUGS</td><td>OHFA</td><td>Future Available</td><td>OH</td><td>On Hand</td></tr><tr><td>RET-32</td><td>AS-IS (NO PACKING)</td><td>OHFA</td><td>Future Available</td><td>OH</td><td>On Hand</td></tr><tr><td>RET-504</td><td>SOFT BRENTWOOD - STOCK RETURN</td><td>OHFA</td><td>Future Available</td><td>OH</td><td>On Hand</td></tr><tr><td>RET-506</td><td>SOFT EVERGREEN - STOCK RETURN</td><td>OHFA</td><td>Future Available</td><td>OH</td><td>On Hand</td></tr><tr><td>RET-508</td><td>SOFT ARBORETUM - STOCK RETURN</td><td>OHFA</td><td>Future Available</td><td>OH</td><td>On Hand</td></tr><tr><td>RET-510</td><td>SOFT BURR RIDGE - STOCK RETURN</td><td>OHFA</td><td>Future Available</td><td>OH</td><td>On Hand</td></tr><tr><td>RET-512</td><td>SOFT PARK MEADOWS - STOCK RETURN</td><td>OHFA</td><td>Future Available</td><td>OH</td><td>On Hand</td></tr><tr><td>RET-514</td><td>SOFT SOUTHLAKE - STOCK RETURN</td><td>OHFA</td><td>Future Available</td><td>OH</td><td>On Hand</td></tr><tr><td>RET-516</td><td>SOFT CNTRY CLB PLZ - STOCK RETURN</td><td>OHFA</td><td>Future Available</td><td>OH</td><td>On Hand</td></tr><tr><td>RET-518</td><td>SOFT COPLEY PLACE - STOCK RETURN</td><td>OHFA</td><td>Future Available</td><td>OH</td><td>On Hand</td></tr><tr><td>RET-520</td><td>SOFT CHESTNUT HILL - STOCK RETURN</td><td>OHFA</td><td>Future Available</td><td>OH</td><td>On Hand</td></tr><tr><td>RET-522</td><td>SOFT LA CANTERA - STOCK RETURN</td><td>OHFA</td><td>Future Available</td><td>OH</td><td>On Hand</td></tr><tr><td>RET-524</td><td>SOFT WOODLANDS - STOCK RETURN</td><td>OHFA</td><td>Future Available</td><td>OH</td><td>On Hand</td></tr><tr><td>RET-526</td><td>SOFT KING OF PRUSSIA - STOCK RETURN</td><td>OHFA</td><td>Future Available</td><td>OH</td><td>On Hand</td></tr><tr><td>RET-528</td><td>SOFT TOWN & COUNTRY - STOCK RETURN</td><td>OHFA</td><td>Future Available</td><td>OH</td><td>On Hand</td></tr><tr><td>RET-530</td><td>SOFT SHORT PUMP - STOCK RETURN</td><td>OHFA</td><td>Future Available</td><td>OH</td><td>On Hand</td></tr><tr><td>RET-532</td><td>SOFT GREENWAY STATION - STOCK RETURN</td><td>OHFA</td><td>Future Available</td><td>OH</td><td>On Hand</td></tr><tr><td>RET-534</td><td>SOFT MARKET STREET LYNNFIELD - STOCK RETURN</td><td>OHFA</td><td>Future Available</td><td>OH</td><td>On Hand</td></tr><tr><td>RET-536</td><td>SOFT BRIDGEPORT VILLAGE - STOCK RETURN</td><td>OHFA</td><td>Future Available</td><td>OH</td><td>On Hand</td></tr><tr><td>RET-538</td><td>SOFT AVALON ALPHARETTA - STOCK RETURN</td><td>OHFA</td><td>Future Available</td><td>OH</td><td>On Hand</td></tr><tr><td>RET-540</td><td>SOFT PARAMUS PARK - STOCK RETURN</td><td>OHFA</td><td>Future Available</td><td>OH</td><td>On Hand</td></tr><tr><td>RET-542</td><td>SOFT Bridgewater Commons - STOCK RETURN</td><td>OHFA</td><td>Future Available</td><td>OH</td><td>On Hand</td></tr><tr><td>RET-544</td><td>SOFT La Encantada - STOCK RETURN</td><td>OHFA</td><td>Future Available</td><td>OH</td><td>On Hand</td></tr><tr><td>RET-546</td><td>SOFT Fairfax Corner - STOCK RETURN</td><td>OHFA</td><td>Future Available</td><td>OH</td><td>On Hand</td></tr><tr><td>RET-548</td><td>SOFT Peachtree Parkway - STOCK RETURN</td><td>OHFA</td><td>Future Available</td><td>OH</td><td>On Hand</td></tr><tr><td>RET-550</td><td>SOFT Bellevue Square - STOCK RETURN</td><td>OHFA</td><td>Future Available</td><td>OH</td><td>On Hand</td></tr><tr><td>RET-552</td><td>SOFT Crocker Park - STOCK RETURN</td><td>OHFA</td><td>Future Available</td><td>OH</td><td>On Hand</td></tr><tr><td>RET-554</td><td>SOFT Brinton Lake - STOCK RETURN</td><td>OHFA</td><td>Future Available</td><td>OH</td><td>On Hand</td></tr><tr><td>RET-556</td><td>SOFT Chandler Fashion Center - STOCK RETURN</td><td>OHFA</td><td>Future Available</td><td>OH</td><td>On Hand</td></tr><tr><td>RET-558</td><td>SOFT Kierland Commons - STOCK RETURN</td><td>OHFA</td><td>Future Available</td><td>OH</td><td>On Hand</td></tr><tr><td>RET-560</td><td>SOFT Shops of Saddle Creek - STOCK RETURN</td><td>OHFA</td><td>Future Available</td><td>OH</td><td>On Hand</td></tr><tr><td>RET-562</td><td>SOFT Annapolis - STOCK RETURN</td><td>OHFA</td><td>Future Available</td><td>OH</td><td>On Hand</td></tr><tr><td>RET-564</td><td>SOFT Flatiron Crossing - STOCK RETURN</td><td>OHFA</td><td>Future Available</td><td>OH</td><td>On Hand</td></tr><tr><td>RET-566</td><td>SOFT Blakeney Shopping Center - STOCK RETURN</td><td>OHFA</td><td>Future Available</td><td>OH</td><td>On Hand</td></tr><tr><td>RET-568</td><td>SOFT The Shops at Friendly Center - STOCK RETURN</td><td>OHFA</td><td>Future Available</td><td>OH</td><td>On Hand</td></tr><tr><td>RET-570</td><td>SOFT The Summit - STOCK RETURN</td><td>OHFA</td><td>Future Available</td><td>OH</td><td>On Hand</td></tr><tr><td>RET-572</td><td>SOFT Legacy Village - STOCK RETURN</td><td>OHFA</td><td>Future Available</td><td>OH</td><td>On Hand</td></tr><tr><td>RET-574</td><td>SOFT Main Street Promenade - STOCK RETURN</td><td>OHFA</td><td>Future Available</td><td>OH</td><td>On Hand</td></tr><tr><td>RET-576</td><td>SOFT Orland Park - STOCK RETURN</td><td>OHFA</td><td>Future Available</td><td>OH</td><td>On Hand</td></tr><tr><td>RET-578</td><td>SOFT Arboretum at Great Hills - STOCK RETURN</td><td>OHFA</td><td>Future Available</td><td>OH</td><td>On Hand</td></tr><tr><td>RET-580</td><td>SOFT Avenue West Cobb - STOCK RETURN</td><td>OHFA</td><td>Future Available</td><td>OH</td><td>On Hand</td></tr><tr><td>RET-582</td><td>SOFT First Colony - STOCK RETURN</td><td>OHFA</td><td>Future Available</td><td>OH</td><td>On Hand</td></tr><tr><td>RET-584</td><td>SOFT Union Hill - STOCK RETURN</td><td>OHFA</td><td>Future Available</td><td>OH</td><td>On Hand</td></tr><tr><td>RET-586</td><td>SOFT Briargate - STOCK RETURN</td><td>OHFA</td><td>Future Available</td><td>OH</td><td>On Hand</td></tr><tr><td>RET-588</td><td>SOFT Renaissance - STOCK RETURN</td><td>OHFA</td><td>Future Available</td><td>OH</td><td>On Hand</td></tr><tr><td>RET-590</td><td>SOFT Jordan Creek - STOCK RETURN</td><td>OHFA</td><td>Future Available</td><td>OH</td><td>On Hand</td></tr><tr><td>RET-592</td><td>SOFT Preston Park - STOCK RETURN</td><td>OHFA</td><td>Future Available</td><td>OH</td><td>On Hand</td></tr><tr><td>RET-594</td><td>SOFT Turkey Creek - STOCK RETURN</td><td>OHFA</td><td>Future Available</td><td>OH</td><td>On Hand</td></tr><tr><td>RET-596</td><td>SOFT Cedar Lodge - STOCK RETURN</td><td>OHFA</td><td>Future Available</td><td>OH</td><td>On Hand</td></tr><tr><td>RET-598</td><td>SOFT Rochester Hills - STOCK RETURN</td><td>OHFA</td><td>Future Available</td><td>OH</td><td>On Hand</td></tr><tr><td>RET-60</td><td>RECONDITIONING-NEEDS PARTS</td><td>OHFA</td><td>Future Available</td><td>OH</td><td>On Hand</td></tr><tr><td>RET-600</td><td>SOFT Green Valley - STOCK RETURN</td><td>OHFA</td><td>Future Available</td><td>OH</td><td>On Hand</td></tr><tr><td>RET-602</td><td>SOFT Coconut Point - STOCK RETURN</td><td>OHFA</td><td>Future Available</td><td>OH</td><td>On Hand</td></tr><tr><td>RET-604</td><td>SOFT Paddock Shops - STOCK RETURN</td><td>OHFA</td><td>Future Available</td><td>OH</td><td>On Hand</td></tr><tr><td>RET-606</td><td>SOFT Village Pointe - STOCK RETURN</td><td>OHFA</td><td>Future Available</td><td>OH</td><td>On Hand</td></tr><tr><td>RET-608</td><td>SOFT Easton Town Center - STOCK RETURN</td><td>OHFA</td><td>Future Available</td><td>OH</td><td>On Hand</td></tr><tr><td>RET-61</td><td>RECONDITIONING-STEAMING</td><td>OHFA</td><td>Future Available</td><td>OH</td><td>On Hand</td></tr><tr><td>RET-610</td><td>SOFT Mount Pleasant - STOCK RETURN</td><td>OHFA</td><td>Future Available</td><td>OH</td><td>On Hand</td></tr><tr><td>RET-612</td><td>SOFT University Town Ctr - STOCK RETURN</td><td>OHFA</td><td>Future Available</td><td>OH</td><td>On Hand</td></tr><tr><td>RET-614</td><td>SOFT Classen Curve - STOCK RETURN</td><td>OHFA</td><td>Future Available</td><td>OH</td><td>On Hand</td></tr><tr><td>RET-616</td><td>SOFT ABQ Uptown - STOCK RETURN</td><td>OHFA</td><td>Future Available</td><td>OH</td><td>On Hand</td></tr><tr><td>RET-618</td><td>SOFT Eastview Mall - STOCK RETURN</td><td>OHFA</td><td>Future Available</td><td>OH</td><td>On Hand</td></tr><tr><td>RET-62</td><td>RECONDITIONING-HANGING</td><td>OHFA</td><td>Future Available</td><td>OH</td><td>On Hand</td></tr><tr><td>RET-620</td><td>SOFT Ross Park - STOCK RETURN</td><td>OHFA</td><td>Future Available</td><td>OH</td><td>On Hand</td></tr><tr><td>RET-622</td><td>SOFT Hunt Valley - STOCK RETURN</td><td>OHFA</td><td>Future Available</td><td>OH</td><td>On Hand</td></tr><tr><td>RET-624</td><td>SOFT Galleria Edina - STOCK RETURN</td><td>OHFA</td><td>Future Available</td><td>OH</td><td>On Hand</td></tr><tr><td>RET-626</td><td>SOFT Mall in Columbia - STOCK RETURN</td><td>OHFA</td><td>Future Available</td><td>OH</td><td>On Hand</td></tr><tr><td>RET-628</td><td>SOFT Montgomery Village - STOCK RETURN</td><td>OHFA</td><td>Future Available</td><td>OH</td><td>On Hand</td></tr><tr><td>RET-63</td><td>RECONDITIONING-FOLDED</td><td>OHFA</td><td>Future Available</td><td>OH</td><td>On Hand</td></tr><tr><td>RET-630</td><td>SOFT Victoria Gardens - STOCK RETURN</td><td>OHFA</td><td>Future Available</td><td>OH</td><td>On Hand</td></tr><tr><td>RET-632</td><td>SOFT Sagemore - STOCK RETURN</td><td>OHFA</td><td>Future Available</td><td>OH</td><td>On Hand</td></tr><tr><td>RET-634</td><td>SOFT Susquehanna - STOCK RETURN</td><td>OHFA</td><td>Future Available</td><td>OH</td><td>On Hand</td></tr><tr><td>RET-636</td><td>SOFT New 2018 Store 1 - STOCK RETURN</td><td>OHFA</td><td>Future Available</td><td>OH</td><td>On Hand</td></tr><tr><td>RET-638</td><td>SOFT The Villages - STOCK RETURN</td><td>OHFA</td><td>Future Available</td><td>OH</td><td>On Hand</td></tr><tr><td>RET-64</td><td>RECONDITIONING-SHOE & ACCESOR</td><td>OHFA</td><td>Future Available</td><td>OH</td><td>On Hand</td></tr><tr><td>RET-640</td><td>SOFT 2018 New Store 1 - STOCK RETURN</td><td>OHFA</td><td>Future Available</td><td>OH</td><td>On Hand</td></tr><tr><td>RET-642</td><td>SOFT Broadway Plaza - STOCK RETURN</td><td>OHFA</td><td>Future Available</td><td>OH</td><td>On Hand</td></tr><tr><td>RET-644</td><td>SOFT The Falls - STOCK RETURN</td><td>OHFA</td><td>Future Available</td><td>OH</td><td>On Hand</td></tr><tr><td>RET-646</td><td>SOFT Biltmore Village - STOCK RETURN</td><td>OHFA</td><td>Future Available</td><td>OH</td><td>On Hand</td></tr><tr><td>RET-648</td><td>SOFT St Johns Town Center - STOCK RETURN</td><td>OHFA</td><td>Future Available</td><td>OH</td><td>On Hand</td></tr><tr><td>RET-65</td><td>PARTS ORDER</td><td>OHFA</td><td>Future Available</td><td>OH</td><td>On Hand</td></tr><tr><td>RET-650</td><td>SOFT Village at Meridian - STOCK RETURN</td><td>OHFA</td><td>Future Available</td><td>OH</td><td>On Hand</td></tr><tr><td>RET-652</td><td>SOFT Shops at Rossmoor - STOCK RETURN</td><td>OHFA</td><td>Future Available</td><td>OH</td><td>On Hand</td></tr><tr><td>RET-654</td><td>SOFT Shops on El Paseo - STOCK RETURN</td><td>OHFA</td><td>Future Available</td><td>OH</td><td>On Hand</td></tr><tr><td>RET-656</td><td>SOFT Lakeside Shopping Ctr - STOCK RETURN</td><td>OHFA</td><td>Future Available</td><td>OH</td><td>On Hand</td></tr><tr><td>RET-658</td><td>SOFT Mall at Green Hills - STOCK RETURN</td><td>OHFA</td><td>Future Available</td><td>OH</td><td>On Hand</td></tr><tr><td>RET-66</td><td>RECONDITIONED-RETURN TO STOCK</td><td>OHFA</td><td>Future Available</td><td>OH</td><td>On Hand</td></tr><tr><td>RET-660</td><td>SOFT Alderwood Mall - STOCK RETURN</td><td>OHFA</td><td>Future Available</td><td>OH</td><td>On Hand</td></tr><tr><td>RET-662</td><td>SOFT Streets at Southpoint - STOCK RETURN</td><td>OHFA</td><td>Future Available</td><td>OH</td><td>On Hand</td></tr><tr><td>RET-664</td><td>SOFT Kingsgate Center - STOCK RETURN</td><td>OHFA</td><td>Future Available</td><td>OH</td><td>On Hand</td></tr><tr><td>RET-666</td><td>SOFT Danbury Fair Mall - STOCK RETURN</td><td>OHFA</td><td>Future Available</td><td>OH</td><td>On Hand</td></tr><tr><td>RET-668</td><td>SOFT International Plaza - STOCK RETURN</td><td>OHFA</td><td>Future Available</td><td>OH</td><td>On Hand</td></tr><tr><td>RET-70</td><td>DRY CLEANING</td><td>OHFA</td><td>Future Available</td><td>OH</td><td>On Hand</td></tr><tr><td>RET-71</td><td>SEWING</td><td>OHFA</td><td>Future Available</td><td>OH</td><td>On Hand</td></tr><tr><td>RET-72</td><td>QUALITY ASSURANCE CHECK</td><td>OHFA</td><td>Future Available</td><td>OH</td><td>On Hand</td></tr><tr><td>RET-89</td><td>CUSTOMER DONATED</td><td>OHFA</td><td>Future Available</td><td>OH</td><td>On Hand</td></tr><tr><td>RET-92</td><td>TRACER VERIFIED DIRECT SHIP RETURN</td><td>OHFA</td><td>Future Available</td><td>OH</td><td>On Hand</td></tr><tr><td>RET-93</td><td>ORIG RESOLVED / TRACER RESULTS</td><td>OHFA</td><td>Future Available</td><td>OH</td><td>On Hand</td></tr><tr><td>RET-94</td><td>TRACER VERIFIED STOCK RETURN</td><td>OHFA</td><td>Future Available</td><td>OH</td><td>On Hand</td></tr><tr><td>RET-96</td><td>TRACER VERIFIED PARTS RETURN</td><td>OHFA</td><td>Future Available</td><td>OH</td><td>On Hand</td></tr><tr><td>RET-99</td><td>IMMEDIATE REPLACEMENT</td><td>OHFA</td><td>Future Available</td><td>OH</td><td>On Hand</td></tr><tr><td>RET-997</td><td>RTV RETURN</td><td>OHFA</td><td>Future Available</td><td>OH</td><td>On Hand</td></tr><tr><td>RET-998</td><td>BEAUTY RETURN</td><td>OHFA</td><td>Future Available</td><td>OH</td><td>On Hand</td></tr><tr><td>RET-999</td><td>INVENTORY RESIZING</td><td>OHFA</td><td>Future Available</td><td>OH</td><td>On Hand</td></tr><tr><td>INV-950</td><td>Allocated (ANS)</td><td>OHUA</td><td>Unavailable</td><td>OH</td><td>On Hand</td></tr><tr><td>INV-04</td><td>Damaged upon receipt</td><td>OHUA</td><td>Unavailable</td><td>OH</td><td>On Hand</td></tr><tr><td>INV-05</td><td>Defective/as is and cannot be returned to vendor</td><td>OHUA</td><td>Unavailable</td><td>OH</td><td>On Hand</td></tr><tr><td>INV-27</td><td>Damaged Store Transfers</td><td>OHUA</td><td>Unavailable</td><td>OH</td><td>On Hand</td></tr><tr><td>RET-131</td><td>SOFT Copley Place - DAMAGE RETURN</td><td>OHUA</td><td>Unavailable</td><td>OH</td><td>On Hand</td></tr><tr><td>RET-33</td><td>CREDIT VENDOR-DEFECTIVE</td><td>OHUA</td><td>Unavailable</td><td>OH</td><td>On Hand</td></tr><tr><td>RET-43</td><td>DAMAGED BY PRIORITY MAIL</td><td>OHUA</td><td>Unavailable</td><td>OH</td><td>On Hand</td></tr><tr><td>RET-44</td><td>DAMAGED BY UPS</td><td>OHUA</td><td>Unavailable</td><td>OH</td><td>On Hand</td></tr><tr><td>RET-45</td><td>DAMAGED BY FED. EXP.</td><td>OHUA</td><td>Unavailable</td><td>OH</td><td>On Hand</td></tr><tr><td>RET-46</td><td>DAMAGED BY AIR BORNE</td><td>OHUA</td><td>Unavailable</td><td>OH</td><td>On Hand</td></tr><tr><td>RET-47</td><td>DAMAGED BY OTHER</td><td>OHUA</td><td>Unavailable</td><td>OH</td><td>On Hand</td></tr><tr><td>RET-48</td><td>DAMAGES-PROCESSED</td><td>OHUA</td><td>Unavailable</td><td>OH</td><td>On Hand</td></tr><tr><td>RET-505</td><td>SOFT BRENTWOOD - DAMAGE RETURN</td><td>OHUA</td><td>Unavailable</td><td>OH</td><td>On Hand</td></tr><tr><td>RET-507</td><td>SOFT EVERGREEN - DAMAGE RETURN</td><td>OHUA</td><td>Unavailable</td><td>OH</td><td>On Hand</td></tr><tr><td>RET-509</td><td>SOFT ARBORETUM - DAMAGE RETURN</td><td>OHUA</td><td>Unavailable</td><td>OH</td><td>On Hand</td></tr><tr><td>RET-511</td><td>SOFT BURR RIDGE - DAMAGE RETURN</td><td>OHUA</td><td>Unavailable</td><td>OH</td><td>On Hand</td></tr><tr><td>RET-513</td><td>SOFT PARK MEADOWS - DAMAGE RETURN</td><td>OHUA</td><td>Unavailable</td><td>OH</td><td>On Hand</td></tr><tr><td>RET-515</td><td>SOFT SOUTHLAKE - DAMAGE RETURN</td><td>OHUA</td><td>Unavailable</td><td>OH</td><td>On Hand</td></tr><tr><td>RET-517</td><td>SOFT CNTRY CLB PLZ - DAMAGE RETURN</td><td>OHUA</td><td>Unavailable</td><td>OH</td><td>On Hand</td></tr><tr><td>RET-519</td><td>SOFT COPLEY PLACE - DAMAGE RETURN</td><td>OHUA</td><td>Unavailable</td><td>OH</td><td>On Hand</td></tr><tr><td>RET-521</td><td>SOFT CHESTNUT HILL - DAMAGE RETURN</td><td>OHUA</td><td>Unavailable</td><td>OH</td><td>On Hand</td></tr><tr><td>RET-523</td><td>SOFT LA CANTERA - DAMAGE RETURN</td><td>OHUA</td><td>Unavailable</td><td>OH</td><td>On Hand</td></tr><tr><td>RET-525</td><td>SOFT WOODLANDS - DAMAGE RETURN</td><td>OHUA</td><td>Unavailable</td><td>OH</td><td>On Hand</td></tr><tr><td>RET-527</td><td>SOFT KING OF PRUSSIA - DAMAGE RETURN</td><td>OHUA</td><td>Unavailable</td><td>OH</td><td>On Hand</td></tr><tr><td>RET-529</td><td>SOFT TOWN & COUNTRY - DAMAGE RETURN</td><td>OHUA</td><td>Unavailable</td><td>OH</td><td>On Hand</td></tr><tr><td>RET-531</td><td>SOFT SHORT PUMP - DAMAGE RETURN</td><td>OHUA</td><td>Unavailable</td><td>OH</td><td>On Hand</td></tr><tr><td>RET-533</td><td>SOFT GREENWAY STATION - DAMAGE RETURN</td><td>OHUA</td><td>Unavailable</td><td>OH</td><td>On Hand</td></tr><tr><td>RET-535</td><td>SOFT MARKET STREET LYNNFIELD - DAMAGE RETURN</td><td>OHUA</td><td>Unavailable</td><td>OH</td><td>On Hand</td></tr><tr><td>RET-537</td><td>SOFT BRIDGEPORT VILLAGE - DAMAGE RETURN</td><td>OHUA</td><td>Unavailable</td><td>OH</td><td>On Hand</td></tr><tr><td>RET-539</td><td>SOFT AVALON ALPHARETTA - DAMAGE RETURN</td><td>OHUA</td><td>Unavailable</td><td>OH</td><td>On Hand</td></tr><tr><td>RET-541</td><td>SOFT PARAMUS PARK - DAMAGE RETURN</td><td>OHUA</td><td>Unavailable</td><td>OH</td><td>On Hand</td></tr><tr><td>RET-543</td><td>SOFT Bridgewater Commons - DAMAGE RETURN</td><td>OHUA</td><td>Unavailable</td><td>OH</td><td>On Hand</td></tr><tr><td>RET-545</td><td>SOFT La Encantada - DAMAGE RETURN</td><td>OHUA</td><td>Unavailable</td><td>OH</td><td>On Hand</td></tr><tr><td>RET-547</td><td>SOFT Fairfax Corner - DAMAGE RETURN</td><td>OHUA</td><td>Unavailable</td><td>OH</td><td>On Hand</td></tr><tr><td>RET-549</td><td>SOFT Peachtree Parkway - DAMAGE RETURN</td><td>OHUA</td><td>Unavailable</td><td>OH</td><td>On Hand</td></tr><tr><td>RET-551</td><td>SOFT Bellevue Square - DAMAGE RETURN</td><td>OHUA</td><td>Unavailable</td><td>OH</td><td>On Hand</td></tr><tr><td>RET-553</td><td>SOFT Crocker Park - DAMAGE RETURN</td><td>OHUA</td><td>Unavailable</td><td>OH</td><td>On Hand</td></tr><tr><td>RET-555</td><td>SOFT Brinton Lake - DAMAGE RETURN</td><td>OHUA</td><td>Unavailable</td><td>OH</td><td>On Hand</td></tr><tr><td>RET-557</td><td>SOFT Chandler Fashion Center - DAMAGE RETURN</td><td>OHUA</td><td>Unavailable</td><td>OH</td><td>On Hand</td></tr><tr><td>RET-559</td><td>SOFT Kierland Commons - DAMAGE RETURN</td><td>OHUA</td><td>Unavailable</td><td>OH</td><td>On Hand</td></tr><tr><td>RET-561</td><td>SOFT Shops of Saddle Creek - DAMAGE RETURN</td><td>OHUA</td><td>Unavailable</td><td>OH</td><td>On Hand</td></tr><tr><td>RET-563</td><td>SOFT Annapolis - DAMAGE RETURN</td><td>OHUA</td><td>Unavailable</td><td>OH</td><td>On Hand</td></tr><tr><td>RET-565</td><td>SOFT Flatiron Crossing - DAMAGE RETURN</td><td>OHUA</td><td>Unavailable</td><td>OH</td><td>On Hand</td></tr><tr><td>RET-567</td><td>SOFT Blakeney Shopping Center - DAMAGE RETURN</td><td>OHUA</td><td>Unavailable</td><td>OH</td><td>On Hand</td></tr><tr><td>RET-569</td><td>SOFT The Shops at Friendly Center - DAMAGE RETURN</td><td>OHUA</td><td>Unavailable</td><td>OH</td><td>On Hand</td></tr><tr><td>RET-571</td><td>SOFT The Summit - DAMAGE RETURN</td><td>OHUA</td><td>Unavailable</td><td>OH</td><td>On Hand</td></tr><tr><td>RET-573</td><td>SOFT Legacy Village - DAMAGE RETURN</td><td>OHUA</td><td>Unavailable</td><td>OH</td><td>On Hand</td></tr><tr><td>RET-575</td><td>SOFT Main Street Promenade - DAMAGE RETURN</td><td>OHUA</td><td>Unavailable</td><td>OH</td><td>On Hand</td></tr><tr><td>RET-577</td><td>SOFT Orland Park - DAMAGE RETURN</td><td>OHUA</td><td>Unavailable</td><td>OH</td><td>On Hand</td></tr><tr><td>RET-579</td><td>SOFT Arboretum at Great Hills - DAMAGE RETURN</td><td>OHUA</td><td>Unavailable</td><td>OH</td><td>On Hand</td></tr><tr><td>RET-581</td><td>SOFT Avenue West Cobb - DAMAGE RETURN</td><td>OHUA</td><td>Unavailable</td><td>OH</td><td>On Hand</td></tr><tr><td>RET-583</td><td>SOFT First Colony - DAMAGE RETURN</td><td>OHUA</td><td>Unavailable</td><td>OH</td><td>On Hand</td></tr><tr><td>RET-585</td><td>SOFT Union Hill - DAMAGE RETURN</td><td>OHUA</td><td>Unavailable</td><td>OH</td><td>On Hand</td></tr><tr><td>RET-587</td><td>SOFT Briargate - DAMAGE RETURN</td><td>OHUA</td><td>Unavailable</td><td>OH</td><td>On Hand</td></tr><tr><td>RET-589</td><td>SOFT Renaissance - DAMAGE RETURN</td><td>OHUA</td><td>Unavailable</td><td>OH</td><td>On Hand</td></tr><tr><td>RET-591</td><td>SOFT Jordan Creek - DAMAGE RETURN</td><td>OHUA</td><td>Unavailable</td><td>OH</td><td>On Hand</td></tr><tr><td>RET-593</td><td>SOFT Preston Park - DAMAGE RETURN</td><td>OHUA</td><td>Unavailable</td><td>OH</td><td>On Hand</td></tr><tr><td>RET-595</td><td>SOFT Turkey Creek - DAMAGE RETURN</td><td>OHUA</td><td>Unavailable</td><td>OH</td><td>On Hand</td></tr><tr><td>RET-597</td><td>SOFT Cedar Lodge - DAMAGE RETURN</td><td>OHUA</td><td>Unavailable</td><td>OH</td><td>On Hand</td></tr><tr><td>RET-599</td><td>SOFT Rochester Hills - DAMAGE RETURN</td><td>OHUA</td><td>Unavailable</td><td>OH</td><td>On Hand</td></tr><tr><td>RET-601</td><td>SOFT Green Valley - DAMAGE RETURN</td><td>OHUA</td><td>Unavailable</td><td>OH</td><td>On Hand</td></tr><tr><td>RET-603</td><td>SOFT Coconut Point - DAMAGE RETURN</td><td>OHUA</td><td>Unavailable</td><td>OH</td><td>On Hand</td></tr><tr><td>RET-605</td><td>SOFT Paddock Shops - DAMAGE RETURN</td><td>OHUA</td><td>Unavailable</td><td>OH</td><td>On Hand</td></tr><tr><td>RET-607</td><td>SOFT Village Pointe - DAMAGE RETURN</td><td>OHUA</td><td>Unavailable</td><td>OH</td><td>On Hand</td></tr><tr><td>RET-609</td><td>SOFT Easton Town Center - DAMAGE RETURN</td><td>OHUA</td><td>Unavailable</td><td>OH</td><td>On Hand</td></tr><tr><td>RET-611</td><td>SOFT Mount Pleasant - DAMAGE RETURN</td><td>OHUA</td><td>Unavailable</td><td>OH</td><td>On Hand</td></tr><tr><td>RET-613</td><td>SOFT University Town Ctr - DAMAGE RETURN</td><td>OHUA</td><td>Unavailable</td><td>OH</td><td>On Hand</td></tr><tr><td>RET-615</td><td>SOFT Classen Curve - DAMAGE RETURN</td><td>OHUA</td><td>Unavailable</td><td>OH</td><td>On Hand</td></tr><tr><td>RET-617</td><td>SOFT ABQ Uptown - DAMAGE RETURN</td><td>OHUA</td><td>Unavailable</td><td>OH</td><td>On Hand</td></tr><tr><td>RET-619</td><td>SOFT Eastview Mall - DAMAGE RETURN</td><td>OHUA</td><td>Unavailable</td><td>OH</td><td>On Hand</td></tr><tr><td>RET-621</td><td>SOFT Ross Park - DAMAGE RETURN</td><td>OHUA</td><td>Unavailable</td><td>OH</td><td>On Hand</td></tr><tr><td>RET-623</td><td>SOFT Hunt Valley - DAMAGE RETURN</td><td>OHUA</td><td>Unavailable</td><td>OH</td><td>On Hand</td></tr><tr><td>RET-625</td><td>SOFT Galleria Edina - DAMAGE RETURN</td><td>OHUA</td><td>Unavailable</td><td>OH</td><td>On Hand</td></tr><tr><td>RET-627</td><td>SOFT Mall in Columbia - DAMAGE RETURN</td><td>OHUA</td><td>Unavailable</td><td>OH</td><td>On Hand</td></tr><tr><td>RET-629</td><td>SOFT Montgomery Village - DAMAGE RETURN</td><td>OHUA</td><td>Unavailable</td><td>OH</td><td>On Hand</td></tr><tr><td>RET-631</td><td>SOFT Victoria Gardens - DAMAGE RETURN</td><td>OHUA</td><td>Unavailable</td><td>OH</td><td>On Hand</td></tr><tr><td>RET-633</td><td>SOFT Sagemore - DAMAGE RETURN</td><td>OHUA</td><td>Unavailable</td><td>OH</td><td>On Hand</td></tr><tr><td>RET-635</td><td>SOFT Susquehanna - DAMAGE RETURN</td><td>OHUA</td><td>Unavailable</td><td>OH</td><td>On Hand</td></tr><tr><td>RET-637</td><td>SOFT New 2018 Store 1 - DAMAGE RETURN</td><td>OHUA</td><td>Unavailable</td><td>OH</td><td>On Hand</td></tr><tr><td>RET-639</td><td>SOFT The Villages - DAMAGE RETURN</td><td>OHUA</td><td>Unavailable</td><td>OH</td><td>On Hand</td></tr><tr><td>RET-641</td><td>SOFT 2018 New Store 1 - DAMAGE RETURN</td><td>OHUA</td><td>Unavailable</td><td>OH</td><td>On Hand</td></tr><tr><td>RET-643</td><td>SOFT Broadway Plaza - DAMAGE RETURN</td><td>OHUA</td><td>Unavailable</td><td>OH</td><td>On Hand</td></tr><tr><td>RET-645</td><td>SOFT The Falls - DAMAGE RETURN</td><td>OHUA</td><td>Unavailable</td><td>OH</td><td>On Hand</td></tr><tr><td>RET-647</td><td>SOFT Biltmore Village - DAMAGE RETURN</td><td>OHUA</td><td>Unavailable</td><td>OH</td><td>On Hand</td></tr><tr><td>RET-649</td><td>SOFT St Johns Town Center - DAMAGE RETURN</td><td>OHUA</td><td>Unavailable</td><td>OH</td><td>On Hand</td></tr><tr><td>RET-651</td><td>SOFT Village at Meridian - DAMAGE RETURN</td><td>OHUA</td><td>Unavailable</td><td>OH</td><td>On Hand</td></tr><tr><td>RET-653</td><td>SOFT Shops at Rossmoor - DAMAGE RETURN</td><td>OHUA</td><td>Unavailable</td><td>OH</td><td>On Hand</td></tr><tr><td>RET-655</td><td>SOFT Shops on El Paseo - DAMAGE RETURN</td><td>OHUA</td><td>Unavailable</td><td>OH</td><td>On Hand</td></tr><tr><td>RET-657</td><td>SOFT Lakeside Shopping Ctr - DAMAGE RETURN</td><td>OHUA</td><td>Unavailable</td><td>OH</td><td>On Hand</td></tr><tr><td>RET-659</td><td>SOFT Mall at Green Hills - DAMAGE RETURN</td><td>OHUA</td><td>Unavailable</td><td>OH</td><td>On Hand</td></tr><tr><td>RET-661</td><td>SOFT Alderwood Mall - DAMAGE RETURN</td><td>OHUA</td><td>Unavailable</td><td>OH</td><td>On Hand</td></tr><tr><td>RET-663</td><td>SOFT Streets at Southpoint - DAMAGE RETURN</td><td>OHUA</td><td>Unavailable</td><td>OH</td><td>On Hand</td></tr><tr><td>RET-665</td><td>SOFT Kingsgate Center - DAMAGE RETURN</td><td>OHUA</td><td>Unavailable</td><td>OH</td><td>On Hand</td></tr><tr><td>RET-667</td><td>SOFT Danbury Fair Mall - DAMAGE RETURN</td><td>OHUA</td><td>Unavailable</td><td>OH</td><td>On Hand</td></tr><tr><td>RET-669</td><td>SOFT International Plaza - DAMAGE RETURN</td><td>OHUA</td><td>Unavailable</td><td>OH</td><td>On Hand</td></tr><tr><td>RET-87</td><td>ITEM DESTROY-CARRIER</td><td>OHUA</td><td>Unavailable</td><td>OH</td><td>On Hand</td></tr><tr><td>RET-88</td><td>ITEM DONATED-CARRIER</td><td>OHUA</td><td>Unavailable</td><td>OH</td><td>On Hand</td></tr><tr><td>RET-90</td><td>DESTROY ITEM-CUSTOMER</td><td>OHUA</td><td>Unavailable</td><td>OH</td><td>On Hand</td></tr><tr><td>RET-91</td><td>DESTROY ITEM-INHOUSE</td><td>OHUA</td><td>Unavailable</td><td>OH</td><td>On Hand</td></tr><tr><td>INV-24</td><td>Moved to Lost</td><td>OHUA</td><td>Unavailable</td><td>OH</td><td>On Hand</td></tr><tr><td>INV-4000</td><td>Order Processing</td><td>OHUA</td><td>Unavailable</td><td>OH</td><td>On Hand</td></tr><tr><td>INV-08</td><td>Size adjustment needed cross sells</td><td>OHUA</td><td>Unavailable</td><td>OH</td><td>On Hand</td></tr><tr><td>INV-12</td><td>To correct for actual quantity on hand</td><td>OHUA</td><td>Unavailable</td><td>OH</td><td>On Hand</td></tr><tr><td>INV-14</td><td>Sample ?</td><td>OHUA</td><td>Unavailable</td><td>OH</td><td>On Hand</td></tr><tr><td>INV-17</td><td>Carrier Claims</td><td>OHUA</td><td>Unavailable</td><td>OH</td><td>On Hand</td></tr><tr><td>INV-18</td><td>Sent to Merch</td><td>OHUA</td><td>Unavailable</td><td>OH</td><td>On Hand</td></tr><tr><td>INV-19</td><td>Sent to Technical Design</td><td>OHUA</td><td>Unavailable</td><td>OH</td><td>On Hand</td></tr><tr><td>INV-21</td><td>Internal Transfer</td><td>OHUA</td><td>Unavailable</td><td>OH</td><td>On Hand</td></tr><tr><td>INV-23</td><td>Saving for T.O.P.</td><td>OHUA</td><td>Unavailable</td><td>OH</td><td>On Hand</td></tr><tr><td>INV-25</td><td>Parts Depletion</td><td>OHUA</td><td>Unavailable</td><td>OH</td><td>On Hand</td></tr><tr><td>INV-26</td><td>Store Transfer</td><td>OHUA</td><td>Unavailable</td><td>OH</td><td>On Hand</td></tr><tr><td>INV-30</td><td>Liquidation</td><td>OHUA</td><td>Unavailable</td><td>OH</td><td>On Hand</td></tr><tr><td>INV-91</td><td>Miller WHS</td><td>OHUA</td><td>Unavailable</td><td>OH</td><td>On Hand</td></tr><tr><td>INV-99</td><td>Other</td><td>OHUA</td><td>Unavailable</td><td>OH</td><td>On Hand</td></tr><tr><td>RET-50</td><td>CUST RTN TO DS VENDOR</td><td>OHUA</td><td>Unavailable</td><td>OH</td><td>On Hand</td></tr><tr><td>INV-5000</td><td>Work In Progress</td><td>OHUA</td><td>Unavailable</td><td>OH</td><td>On Hand</td></tr></tbody></table></div>"
      ]
     },
     "metadata": {
      "application/vnd.databricks.v1+output": {
       "addedWidgets": {},
       "aggData": [],
       "aggError": "",
       "aggOverflow": false,
       "aggSchema": [],
       "aggSeriesLimitReached": false,
       "aggType": "",
       "arguments": {},
       "columnCustomDisplayInfos": {},
       "data": [
        [
         "INV-880",
         "In-Transit",
         "IBIT",
         "In-transit",
         "IB",
         "Inbound"
        ],
        [
         "INV-875",
         "ASN",
         "IBOO",
         "On Order",
         "IB",
         "Inbound"
        ],
        [
         "INV-800",
         "On Order",
         "IBOO",
         "On Order",
         "IB",
         "Inbound"
        ],
        [
         "INV-850",
         "Store On Order",
         "IBOO",
         "On Order",
         "IB",
         "Inbound"
        ],
        [
         "INV-900",
         "Available",
         "OHAV",
         "Available",
         "OH",
         "On Hand"
        ],
        [
         "INV-20",
         "In Receiving",
         "OHAV",
         "Available",
         "OH",
         "On Hand"
        ],
        [
         "INV-01",
         "New Item",
         "OHFA",
         "Future Available",
         "OH",
         "On Hand"
        ],
        [
         "INV-02",
         "Shipments waiting for belts/buttons",
         "OHFA",
         "Future Available",
         "OH",
         "On Hand"
        ],
        [
         "INV-03",
         "Item restricted for Q.A. problem",
         "OHFA",
         "Future Available",
         "OH",
         "On Hand"
        ],
        [
         "INV-06",
         "Needs to go to cleaners",
         "OHFA",
         "Future Available",
         "OH",
         "On Hand"
        ],
        [
         "INV-07",
         "Needs to go to sewing/alterations",
         "OHFA",
         "Future Available",
         "OH",
         "On Hand"
        ],
        [
         "INV-09",
         "Waiting for coordinating pieces",
         "OHFA",
         "Future Available",
         "OH",
         "On Hand"
        ],
        [
         "INV-10",
         "Missing parts",
         "OHFA",
         "Future Available",
         "OH",
         "On Hand"
        ],
        [
         "INV-1000",
         "Cycle Count",
         "OHFA",
         "Future Available",
         "OH",
         "On Hand"
        ],
        [
         "INV-11",
         "Add Packaging",
         "OHFA",
         "Future Available",
         "OH",
         "On Hand"
        ],
        [
         "INV-13",
         "Retouch/Repair",
         "OHFA",
         "Future Available",
         "OH",
         "On Hand"
        ],
        [
         "INV-15",
         "Mistag",
         "OHFA",
         "Future Available",
         "OH",
         "On Hand"
        ],
        [
         "INV-98",
         "STORE returns",
         "OHFA",
         "Future Available",
         "OH",
         "On Hand"
        ],
        [
         "INV-999",
         "Restricted - No reason",
         "OHFA",
         "Future Available",
         "OH",
         "On Hand"
        ],
        [
         "RET-11",
         "RETURN TO STOCK",
         "OHFA",
         "Future Available",
         "OH",
         "On Hand"
        ],
        [
         "RET-12",
         "RETURN TO STOCK RUGS",
         "OHFA",
         "Future Available",
         "OH",
         "On Hand"
        ],
        [
         "RET-130",
         "SOFT Copley Place - STOCK RETURN",
         "OHFA",
         "Future Available",
         "OH",
         "On Hand"
        ],
        [
         "RET-21",
         "PREPACK RTN TO STOCK",
         "OHFA",
         "Future Available",
         "OH",
         "On Hand"
        ],
        [
         "RET-22",
         "PREPACK AS-IS",
         "OHFA",
         "Future Available",
         "OH",
         "On Hand"
        ],
        [
         "RET-23",
         "PREPACK CREDIT VEND-DEFECTIVE",
         "OHFA",
         "Future Available",
         "OH",
         "On Hand"
        ],
        [
         "RET-24",
         "PREPACK RETURN TO STOCK RUGS",
         "OHFA",
         "Future Available",
         "OH",
         "On Hand"
        ],
        [
         "RET-32",
         "AS-IS (NO PACKING)",
         "OHFA",
         "Future Available",
         "OH",
         "On Hand"
        ],
        [
         "RET-504",
         "SOFT BRENTWOOD - STOCK RETURN",
         "OHFA",
         "Future Available",
         "OH",
         "On Hand"
        ],
        [
         "RET-506",
         "SOFT EVERGREEN - STOCK RETURN",
         "OHFA",
         "Future Available",
         "OH",
         "On Hand"
        ],
        [
         "RET-508",
         "SOFT ARBORETUM - STOCK RETURN",
         "OHFA",
         "Future Available",
         "OH",
         "On Hand"
        ],
        [
         "RET-510",
         "SOFT BURR RIDGE - STOCK RETURN",
         "OHFA",
         "Future Available",
         "OH",
         "On Hand"
        ],
        [
         "RET-512",
         "SOFT PARK MEADOWS - STOCK RETURN",
         "OHFA",
         "Future Available",
         "OH",
         "On Hand"
        ],
        [
         "RET-514",
         "SOFT SOUTHLAKE - STOCK RETURN",
         "OHFA",
         "Future Available",
         "OH",
         "On Hand"
        ],
        [
         "RET-516",
         "SOFT CNTRY CLB PLZ - STOCK RETURN",
         "OHFA",
         "Future Available",
         "OH",
         "On Hand"
        ],
        [
         "RET-518",
         "SOFT COPLEY PLACE - STOCK RETURN",
         "OHFA",
         "Future Available",
         "OH",
         "On Hand"
        ],
        [
         "RET-520",
         "SOFT CHESTNUT HILL - STOCK RETURN",
         "OHFA",
         "Future Available",
         "OH",
         "On Hand"
        ],
        [
         "RET-522",
         "SOFT LA CANTERA - STOCK RETURN",
         "OHFA",
         "Future Available",
         "OH",
         "On Hand"
        ],
        [
         "RET-524",
         "SOFT WOODLANDS - STOCK RETURN",
         "OHFA",
         "Future Available",
         "OH",
         "On Hand"
        ],
        [
         "RET-526",
         "SOFT KING OF PRUSSIA - STOCK RETURN",
         "OHFA",
         "Future Available",
         "OH",
         "On Hand"
        ],
        [
         "RET-528",
         "SOFT TOWN & COUNTRY - STOCK RETURN",
         "OHFA",
         "Future Available",
         "OH",
         "On Hand"
        ],
        [
         "RET-530",
         "SOFT SHORT PUMP - STOCK RETURN",
         "OHFA",
         "Future Available",
         "OH",
         "On Hand"
        ],
        [
         "RET-532",
         "SOFT GREENWAY STATION - STOCK RETURN",
         "OHFA",
         "Future Available",
         "OH",
         "On Hand"
        ],
        [
         "RET-534",
         "SOFT MARKET STREET LYNNFIELD - STOCK RETURN",
         "OHFA",
         "Future Available",
         "OH",
         "On Hand"
        ],
        [
         "RET-536",
         "SOFT BRIDGEPORT VILLAGE - STOCK RETURN",
         "OHFA",
         "Future Available",
         "OH",
         "On Hand"
        ],
        [
         "RET-538",
         "SOFT AVALON ALPHARETTA - STOCK RETURN",
         "OHFA",
         "Future Available",
         "OH",
         "On Hand"
        ],
        [
         "RET-540",
         "SOFT PARAMUS PARK - STOCK RETURN",
         "OHFA",
         "Future Available",
         "OH",
         "On Hand"
        ],
        [
         "RET-542",
         "SOFT Bridgewater Commons - STOCK RETURN",
         "OHFA",
         "Future Available",
         "OH",
         "On Hand"
        ],
        [
         "RET-544",
         "SOFT La Encantada - STOCK RETURN",
         "OHFA",
         "Future Available",
         "OH",
         "On Hand"
        ],
        [
         "RET-546",
         "SOFT Fairfax Corner - STOCK RETURN",
         "OHFA",
         "Future Available",
         "OH",
         "On Hand"
        ],
        [
         "RET-548",
         "SOFT Peachtree Parkway - STOCK RETURN",
         "OHFA",
         "Future Available",
         "OH",
         "On Hand"
        ],
        [
         "RET-550",
         "SOFT Bellevue Square - STOCK RETURN",
         "OHFA",
         "Future Available",
         "OH",
         "On Hand"
        ],
        [
         "RET-552",
         "SOFT Crocker Park - STOCK RETURN",
         "OHFA",
         "Future Available",
         "OH",
         "On Hand"
        ],
        [
         "RET-554",
         "SOFT Brinton Lake - STOCK RETURN",
         "OHFA",
         "Future Available",
         "OH",
         "On Hand"
        ],
        [
         "RET-556",
         "SOFT Chandler Fashion Center - STOCK RETURN",
         "OHFA",
         "Future Available",
         "OH",
         "On Hand"
        ],
        [
         "RET-558",
         "SOFT Kierland Commons - STOCK RETURN",
         "OHFA",
         "Future Available",
         "OH",
         "On Hand"
        ],
        [
         "RET-560",
         "SOFT Shops of Saddle Creek - STOCK RETURN",
         "OHFA",
         "Future Available",
         "OH",
         "On Hand"
        ],
        [
         "RET-562",
         "SOFT Annapolis - STOCK RETURN",
         "OHFA",
         "Future Available",
         "OH",
         "On Hand"
        ],
        [
         "RET-564",
         "SOFT Flatiron Crossing - STOCK RETURN",
         "OHFA",
         "Future Available",
         "OH",
         "On Hand"
        ],
        [
         "RET-566",
         "SOFT Blakeney Shopping Center - STOCK RETURN",
         "OHFA",
         "Future Available",
         "OH",
         "On Hand"
        ],
        [
         "RET-568",
         "SOFT The Shops at Friendly Center - STOCK RETURN",
         "OHFA",
         "Future Available",
         "OH",
         "On Hand"
        ],
        [
         "RET-570",
         "SOFT The Summit - STOCK RETURN",
         "OHFA",
         "Future Available",
         "OH",
         "On Hand"
        ],
        [
         "RET-572",
         "SOFT Legacy Village - STOCK RETURN",
         "OHFA",
         "Future Available",
         "OH",
         "On Hand"
        ],
        [
         "RET-574",
         "SOFT Main Street Promenade - STOCK RETURN",
         "OHFA",
         "Future Available",
         "OH",
         "On Hand"
        ],
        [
         "RET-576",
         "SOFT Orland Park - STOCK RETURN",
         "OHFA",
         "Future Available",
         "OH",
         "On Hand"
        ],
        [
         "RET-578",
         "SOFT Arboretum at Great Hills - STOCK RETURN",
         "OHFA",
         "Future Available",
         "OH",
         "On Hand"
        ],
        [
         "RET-580",
         "SOFT Avenue West Cobb - STOCK RETURN",
         "OHFA",
         "Future Available",
         "OH",
         "On Hand"
        ],
        [
         "RET-582",
         "SOFT First Colony - STOCK RETURN",
         "OHFA",
         "Future Available",
         "OH",
         "On Hand"
        ],
        [
         "RET-584",
         "SOFT Union Hill - STOCK RETURN",
         "OHFA",
         "Future Available",
         "OH",
         "On Hand"
        ],
        [
         "RET-586",
         "SOFT Briargate - STOCK RETURN",
         "OHFA",
         "Future Available",
         "OH",
         "On Hand"
        ],
        [
         "RET-588",
         "SOFT Renaissance - STOCK RETURN",
         "OHFA",
         "Future Available",
         "OH",
         "On Hand"
        ],
        [
         "RET-590",
         "SOFT Jordan Creek - STOCK RETURN",
         "OHFA",
         "Future Available",
         "OH",
         "On Hand"
        ],
        [
         "RET-592",
         "SOFT Preston Park - STOCK RETURN",
         "OHFA",
         "Future Available",
         "OH",
         "On Hand"
        ],
        [
         "RET-594",
         "SOFT Turkey Creek - STOCK RETURN",
         "OHFA",
         "Future Available",
         "OH",
         "On Hand"
        ],
        [
         "RET-596",
         "SOFT Cedar Lodge - STOCK RETURN",
         "OHFA",
         "Future Available",
         "OH",
         "On Hand"
        ],
        [
         "RET-598",
         "SOFT Rochester Hills - STOCK RETURN",
         "OHFA",
         "Future Available",
         "OH",
         "On Hand"
        ],
        [
         "RET-60",
         "RECONDITIONING-NEEDS PARTS",
         "OHFA",
         "Future Available",
         "OH",
         "On Hand"
        ],
        [
         "RET-600",
         "SOFT Green Valley - STOCK RETURN",
         "OHFA",
         "Future Available",
         "OH",
         "On Hand"
        ],
        [
         "RET-602",
         "SOFT Coconut Point - STOCK RETURN",
         "OHFA",
         "Future Available",
         "OH",
         "On Hand"
        ],
        [
         "RET-604",
         "SOFT Paddock Shops - STOCK RETURN",
         "OHFA",
         "Future Available",
         "OH",
         "On Hand"
        ],
        [
         "RET-606",
         "SOFT Village Pointe - STOCK RETURN",
         "OHFA",
         "Future Available",
         "OH",
         "On Hand"
        ],
        [
         "RET-608",
         "SOFT Easton Town Center - STOCK RETURN",
         "OHFA",
         "Future Available",
         "OH",
         "On Hand"
        ],
        [
         "RET-61",
         "RECONDITIONING-STEAMING",
         "OHFA",
         "Future Available",
         "OH",
         "On Hand"
        ],
        [
         "RET-610",
         "SOFT Mount Pleasant - STOCK RETURN",
         "OHFA",
         "Future Available",
         "OH",
         "On Hand"
        ],
        [
         "RET-612",
         "SOFT University Town Ctr - STOCK RETURN",
         "OHFA",
         "Future Available",
         "OH",
         "On Hand"
        ],
        [
         "RET-614",
         "SOFT Classen Curve - STOCK RETURN",
         "OHFA",
         "Future Available",
         "OH",
         "On Hand"
        ],
        [
         "RET-616",
         "SOFT ABQ Uptown - STOCK RETURN",
         "OHFA",
         "Future Available",
         "OH",
         "On Hand"
        ],
        [
         "RET-618",
         "SOFT Eastview Mall - STOCK RETURN",
         "OHFA",
         "Future Available",
         "OH",
         "On Hand"
        ],
        [
         "RET-62",
         "RECONDITIONING-HANGING",
         "OHFA",
         "Future Available",
         "OH",
         "On Hand"
        ],
        [
         "RET-620",
         "SOFT Ross Park - STOCK RETURN",
         "OHFA",
         "Future Available",
         "OH",
         "On Hand"
        ],
        [
         "RET-622",
         "SOFT Hunt Valley - STOCK RETURN",
         "OHFA",
         "Future Available",
         "OH",
         "On Hand"
        ],
        [
         "RET-624",
         "SOFT Galleria Edina - STOCK RETURN",
         "OHFA",
         "Future Available",
         "OH",
         "On Hand"
        ],
        [
         "RET-626",
         "SOFT Mall in Columbia - STOCK RETURN",
         "OHFA",
         "Future Available",
         "OH",
         "On Hand"
        ],
        [
         "RET-628",
         "SOFT Montgomery Village - STOCK RETURN",
         "OHFA",
         "Future Available",
         "OH",
         "On Hand"
        ],
        [
         "RET-63",
         "RECONDITIONING-FOLDED",
         "OHFA",
         "Future Available",
         "OH",
         "On Hand"
        ],
        [
         "RET-630",
         "SOFT Victoria Gardens - STOCK RETURN",
         "OHFA",
         "Future Available",
         "OH",
         "On Hand"
        ],
        [
         "RET-632",
         "SOFT Sagemore - STOCK RETURN",
         "OHFA",
         "Future Available",
         "OH",
         "On Hand"
        ],
        [
         "RET-634",
         "SOFT Susquehanna - STOCK RETURN",
         "OHFA",
         "Future Available",
         "OH",
         "On Hand"
        ],
        [
         "RET-636",
         "SOFT New 2018 Store 1 - STOCK RETURN",
         "OHFA",
         "Future Available",
         "OH",
         "On Hand"
        ],
        [
         "RET-638",
         "SOFT The Villages - STOCK RETURN",
         "OHFA",
         "Future Available",
         "OH",
         "On Hand"
        ],
        [
         "RET-64",
         "RECONDITIONING-SHOE & ACCESOR",
         "OHFA",
         "Future Available",
         "OH",
         "On Hand"
        ],
        [
         "RET-640",
         "SOFT 2018 New Store 1 - STOCK RETURN",
         "OHFA",
         "Future Available",
         "OH",
         "On Hand"
        ],
        [
         "RET-642",
         "SOFT Broadway Plaza - STOCK RETURN",
         "OHFA",
         "Future Available",
         "OH",
         "On Hand"
        ],
        [
         "RET-644",
         "SOFT The Falls - STOCK RETURN",
         "OHFA",
         "Future Available",
         "OH",
         "On Hand"
        ],
        [
         "RET-646",
         "SOFT Biltmore Village - STOCK RETURN",
         "OHFA",
         "Future Available",
         "OH",
         "On Hand"
        ],
        [
         "RET-648",
         "SOFT St Johns Town Center - STOCK RETURN",
         "OHFA",
         "Future Available",
         "OH",
         "On Hand"
        ],
        [
         "RET-65",
         "PARTS ORDER",
         "OHFA",
         "Future Available",
         "OH",
         "On Hand"
        ],
        [
         "RET-650",
         "SOFT Village at Meridian - STOCK RETURN",
         "OHFA",
         "Future Available",
         "OH",
         "On Hand"
        ],
        [
         "RET-652",
         "SOFT Shops at Rossmoor - STOCK RETURN",
         "OHFA",
         "Future Available",
         "OH",
         "On Hand"
        ],
        [
         "RET-654",
         "SOFT Shops on El Paseo - STOCK RETURN",
         "OHFA",
         "Future Available",
         "OH",
         "On Hand"
        ],
        [
         "RET-656",
         "SOFT Lakeside Shopping Ctr - STOCK RETURN",
         "OHFA",
         "Future Available",
         "OH",
         "On Hand"
        ],
        [
         "RET-658",
         "SOFT Mall at Green Hills - STOCK RETURN",
         "OHFA",
         "Future Available",
         "OH",
         "On Hand"
        ],
        [
         "RET-66",
         "RECONDITIONED-RETURN TO STOCK",
         "OHFA",
         "Future Available",
         "OH",
         "On Hand"
        ],
        [
         "RET-660",
         "SOFT Alderwood Mall - STOCK RETURN",
         "OHFA",
         "Future Available",
         "OH",
         "On Hand"
        ],
        [
         "RET-662",
         "SOFT Streets at Southpoint - STOCK RETURN",
         "OHFA",
         "Future Available",
         "OH",
         "On Hand"
        ],
        [
         "RET-664",
         "SOFT Kingsgate Center - STOCK RETURN",
         "OHFA",
         "Future Available",
         "OH",
         "On Hand"
        ],
        [
         "RET-666",
         "SOFT Danbury Fair Mall - STOCK RETURN",
         "OHFA",
         "Future Available",
         "OH",
         "On Hand"
        ],
        [
         "RET-668",
         "SOFT International Plaza - STOCK RETURN",
         "OHFA",
         "Future Available",
         "OH",
         "On Hand"
        ],
        [
         "RET-70",
         "DRY CLEANING",
         "OHFA",
         "Future Available",
         "OH",
         "On Hand"
        ],
        [
         "RET-71",
         "SEWING",
         "OHFA",
         "Future Available",
         "OH",
         "On Hand"
        ],
        [
         "RET-72",
         "QUALITY ASSURANCE CHECK",
         "OHFA",
         "Future Available",
         "OH",
         "On Hand"
        ],
        [
         "RET-89",
         "CUSTOMER DONATED",
         "OHFA",
         "Future Available",
         "OH",
         "On Hand"
        ],
        [
         "RET-92",
         "TRACER VERIFIED DIRECT SHIP RETURN",
         "OHFA",
         "Future Available",
         "OH",
         "On Hand"
        ],
        [
         "RET-93",
         "ORIG RESOLVED / TRACER RESULTS",
         "OHFA",
         "Future Available",
         "OH",
         "On Hand"
        ],
        [
         "RET-94",
         "TRACER VERIFIED STOCK RETURN",
         "OHFA",
         "Future Available",
         "OH",
         "On Hand"
        ],
        [
         "RET-96",
         "TRACER VERIFIED PARTS RETURN",
         "OHFA",
         "Future Available",
         "OH",
         "On Hand"
        ],
        [
         "RET-99",
         "IMMEDIATE REPLACEMENT",
         "OHFA",
         "Future Available",
         "OH",
         "On Hand"
        ],
        [
         "RET-997",
         "RTV RETURN",
         "OHFA",
         "Future Available",
         "OH",
         "On Hand"
        ],
        [
         "RET-998",
         "BEAUTY RETURN",
         "OHFA",
         "Future Available",
         "OH",
         "On Hand"
        ],
        [
         "RET-999",
         "INVENTORY RESIZING",
         "OHFA",
         "Future Available",
         "OH",
         "On Hand"
        ],
        [
         "INV-950",
         "Allocated (ANS)",
         "OHUA",
         "Unavailable",
         "OH",
         "On Hand"
        ],
        [
         "INV-04",
         "Damaged upon receipt",
         "OHUA",
         "Unavailable",
         "OH",
         "On Hand"
        ],
        [
         "INV-05",
         "Defective/as is and cannot be returned to vendor",
         "OHUA",
         "Unavailable",
         "OH",
         "On Hand"
        ],
        [
         "INV-27",
         "Damaged Store Transfers",
         "OHUA",
         "Unavailable",
         "OH",
         "On Hand"
        ],
        [
         "RET-131",
         "SOFT Copley Place - DAMAGE RETURN",
         "OHUA",
         "Unavailable",
         "OH",
         "On Hand"
        ],
        [
         "RET-33",
         "CREDIT VENDOR-DEFECTIVE",
         "OHUA",
         "Unavailable",
         "OH",
         "On Hand"
        ],
        [
         "RET-43",
         "DAMAGED BY PRIORITY MAIL",
         "OHUA",
         "Unavailable",
         "OH",
         "On Hand"
        ],
        [
         "RET-44",
         "DAMAGED BY UPS",
         "OHUA",
         "Unavailable",
         "OH",
         "On Hand"
        ],
        [
         "RET-45",
         "DAMAGED BY FED. EXP.",
         "OHUA",
         "Unavailable",
         "OH",
         "On Hand"
        ],
        [
         "RET-46",
         "DAMAGED BY AIR BORNE",
         "OHUA",
         "Unavailable",
         "OH",
         "On Hand"
        ],
        [
         "RET-47",
         "DAMAGED BY OTHER",
         "OHUA",
         "Unavailable",
         "OH",
         "On Hand"
        ],
        [
         "RET-48",
         "DAMAGES-PROCESSED",
         "OHUA",
         "Unavailable",
         "OH",
         "On Hand"
        ],
        [
         "RET-505",
         "SOFT BRENTWOOD - DAMAGE RETURN",
         "OHUA",
         "Unavailable",
         "OH",
         "On Hand"
        ],
        [
         "RET-507",
         "SOFT EVERGREEN - DAMAGE RETURN",
         "OHUA",
         "Unavailable",
         "OH",
         "On Hand"
        ],
        [
         "RET-509",
         "SOFT ARBORETUM - DAMAGE RETURN",
         "OHUA",
         "Unavailable",
         "OH",
         "On Hand"
        ],
        [
         "RET-511",
         "SOFT BURR RIDGE - DAMAGE RETURN",
         "OHUA",
         "Unavailable",
         "OH",
         "On Hand"
        ],
        [
         "RET-513",
         "SOFT PARK MEADOWS - DAMAGE RETURN",
         "OHUA",
         "Unavailable",
         "OH",
         "On Hand"
        ],
        [
         "RET-515",
         "SOFT SOUTHLAKE - DAMAGE RETURN",
         "OHUA",
         "Unavailable",
         "OH",
         "On Hand"
        ],
        [
         "RET-517",
         "SOFT CNTRY CLB PLZ - DAMAGE RETURN",
         "OHUA",
         "Unavailable",
         "OH",
         "On Hand"
        ],
        [
         "RET-519",
         "SOFT COPLEY PLACE - DAMAGE RETURN",
         "OHUA",
         "Unavailable",
         "OH",
         "On Hand"
        ],
        [
         "RET-521",
         "SOFT CHESTNUT HILL - DAMAGE RETURN",
         "OHUA",
         "Unavailable",
         "OH",
         "On Hand"
        ],
        [
         "RET-523",
         "SOFT LA CANTERA - DAMAGE RETURN",
         "OHUA",
         "Unavailable",
         "OH",
         "On Hand"
        ],
        [
         "RET-525",
         "SOFT WOODLANDS - DAMAGE RETURN",
         "OHUA",
         "Unavailable",
         "OH",
         "On Hand"
        ],
        [
         "RET-527",
         "SOFT KING OF PRUSSIA - DAMAGE RETURN",
         "OHUA",
         "Unavailable",
         "OH",
         "On Hand"
        ],
        [
         "RET-529",
         "SOFT TOWN & COUNTRY - DAMAGE RETURN",
         "OHUA",
         "Unavailable",
         "OH",
         "On Hand"
        ],
        [
         "RET-531",
         "SOFT SHORT PUMP - DAMAGE RETURN",
         "OHUA",
         "Unavailable",
         "OH",
         "On Hand"
        ],
        [
         "RET-533",
         "SOFT GREENWAY STATION - DAMAGE RETURN",
         "OHUA",
         "Unavailable",
         "OH",
         "On Hand"
        ],
        [
         "RET-535",
         "SOFT MARKET STREET LYNNFIELD - DAMAGE RETURN",
         "OHUA",
         "Unavailable",
         "OH",
         "On Hand"
        ],
        [
         "RET-537",
         "SOFT BRIDGEPORT VILLAGE - DAMAGE RETURN",
         "OHUA",
         "Unavailable",
         "OH",
         "On Hand"
        ],
        [
         "RET-539",
         "SOFT AVALON ALPHARETTA - DAMAGE RETURN",
         "OHUA",
         "Unavailable",
         "OH",
         "On Hand"
        ],
        [
         "RET-541",
         "SOFT PARAMUS PARK - DAMAGE RETURN",
         "OHUA",
         "Unavailable",
         "OH",
         "On Hand"
        ],
        [
         "RET-543",
         "SOFT Bridgewater Commons - DAMAGE RETURN",
         "OHUA",
         "Unavailable",
         "OH",
         "On Hand"
        ],
        [
         "RET-545",
         "SOFT La Encantada - DAMAGE RETURN",
         "OHUA",
         "Unavailable",
         "OH",
         "On Hand"
        ],
        [
         "RET-547",
         "SOFT Fairfax Corner - DAMAGE RETURN",
         "OHUA",
         "Unavailable",
         "OH",
         "On Hand"
        ],
        [
         "RET-549",
         "SOFT Peachtree Parkway - DAMAGE RETURN",
         "OHUA",
         "Unavailable",
         "OH",
         "On Hand"
        ],
        [
         "RET-551",
         "SOFT Bellevue Square - DAMAGE RETURN",
         "OHUA",
         "Unavailable",
         "OH",
         "On Hand"
        ],
        [
         "RET-553",
         "SOFT Crocker Park - DAMAGE RETURN",
         "OHUA",
         "Unavailable",
         "OH",
         "On Hand"
        ],
        [
         "RET-555",
         "SOFT Brinton Lake - DAMAGE RETURN",
         "OHUA",
         "Unavailable",
         "OH",
         "On Hand"
        ],
        [
         "RET-557",
         "SOFT Chandler Fashion Center - DAMAGE RETURN",
         "OHUA",
         "Unavailable",
         "OH",
         "On Hand"
        ],
        [
         "RET-559",
         "SOFT Kierland Commons - DAMAGE RETURN",
         "OHUA",
         "Unavailable",
         "OH",
         "On Hand"
        ],
        [
         "RET-561",
         "SOFT Shops of Saddle Creek - DAMAGE RETURN",
         "OHUA",
         "Unavailable",
         "OH",
         "On Hand"
        ],
        [
         "RET-563",
         "SOFT Annapolis - DAMAGE RETURN",
         "OHUA",
         "Unavailable",
         "OH",
         "On Hand"
        ],
        [
         "RET-565",
         "SOFT Flatiron Crossing - DAMAGE RETURN",
         "OHUA",
         "Unavailable",
         "OH",
         "On Hand"
        ],
        [
         "RET-567",
         "SOFT Blakeney Shopping Center - DAMAGE RETURN",
         "OHUA",
         "Unavailable",
         "OH",
         "On Hand"
        ],
        [
         "RET-569",
         "SOFT The Shops at Friendly Center - DAMAGE RETURN",
         "OHUA",
         "Unavailable",
         "OH",
         "On Hand"
        ],
        [
         "RET-571",
         "SOFT The Summit - DAMAGE RETURN",
         "OHUA",
         "Unavailable",
         "OH",
         "On Hand"
        ],
        [
         "RET-573",
         "SOFT Legacy Village - DAMAGE RETURN",
         "OHUA",
         "Unavailable",
         "OH",
         "On Hand"
        ],
        [
         "RET-575",
         "SOFT Main Street Promenade - DAMAGE RETURN",
         "OHUA",
         "Unavailable",
         "OH",
         "On Hand"
        ],
        [
         "RET-577",
         "SOFT Orland Park - DAMAGE RETURN",
         "OHUA",
         "Unavailable",
         "OH",
         "On Hand"
        ],
        [
         "RET-579",
         "SOFT Arboretum at Great Hills - DAMAGE RETURN",
         "OHUA",
         "Unavailable",
         "OH",
         "On Hand"
        ],
        [
         "RET-581",
         "SOFT Avenue West Cobb - DAMAGE RETURN",
         "OHUA",
         "Unavailable",
         "OH",
         "On Hand"
        ],
        [
         "RET-583",
         "SOFT First Colony - DAMAGE RETURN",
         "OHUA",
         "Unavailable",
         "OH",
         "On Hand"
        ],
        [
         "RET-585",
         "SOFT Union Hill - DAMAGE RETURN",
         "OHUA",
         "Unavailable",
         "OH",
         "On Hand"
        ],
        [
         "RET-587",
         "SOFT Briargate - DAMAGE RETURN",
         "OHUA",
         "Unavailable",
         "OH",
         "On Hand"
        ],
        [
         "RET-589",
         "SOFT Renaissance - DAMAGE RETURN",
         "OHUA",
         "Unavailable",
         "OH",
         "On Hand"
        ],
        [
         "RET-591",
         "SOFT Jordan Creek - DAMAGE RETURN",
         "OHUA",
         "Unavailable",
         "OH",
         "On Hand"
        ],
        [
         "RET-593",
         "SOFT Preston Park - DAMAGE RETURN",
         "OHUA",
         "Unavailable",
         "OH",
         "On Hand"
        ],
        [
         "RET-595",
         "SOFT Turkey Creek - DAMAGE RETURN",
         "OHUA",
         "Unavailable",
         "OH",
         "On Hand"
        ],
        [
         "RET-597",
         "SOFT Cedar Lodge - DAMAGE RETURN",
         "OHUA",
         "Unavailable",
         "OH",
         "On Hand"
        ],
        [
         "RET-599",
         "SOFT Rochester Hills - DAMAGE RETURN",
         "OHUA",
         "Unavailable",
         "OH",
         "On Hand"
        ],
        [
         "RET-601",
         "SOFT Green Valley - DAMAGE RETURN",
         "OHUA",
         "Unavailable",
         "OH",
         "On Hand"
        ],
        [
         "RET-603",
         "SOFT Coconut Point - DAMAGE RETURN",
         "OHUA",
         "Unavailable",
         "OH",
         "On Hand"
        ],
        [
         "RET-605",
         "SOFT Paddock Shops - DAMAGE RETURN",
         "OHUA",
         "Unavailable",
         "OH",
         "On Hand"
        ],
        [
         "RET-607",
         "SOFT Village Pointe - DAMAGE RETURN",
         "OHUA",
         "Unavailable",
         "OH",
         "On Hand"
        ],
        [
         "RET-609",
         "SOFT Easton Town Center - DAMAGE RETURN",
         "OHUA",
         "Unavailable",
         "OH",
         "On Hand"
        ],
        [
         "RET-611",
         "SOFT Mount Pleasant - DAMAGE RETURN",
         "OHUA",
         "Unavailable",
         "OH",
         "On Hand"
        ],
        [
         "RET-613",
         "SOFT University Town Ctr - DAMAGE RETURN",
         "OHUA",
         "Unavailable",
         "OH",
         "On Hand"
        ],
        [
         "RET-615",
         "SOFT Classen Curve - DAMAGE RETURN",
         "OHUA",
         "Unavailable",
         "OH",
         "On Hand"
        ],
        [
         "RET-617",
         "SOFT ABQ Uptown - DAMAGE RETURN",
         "OHUA",
         "Unavailable",
         "OH",
         "On Hand"
        ],
        [
         "RET-619",
         "SOFT Eastview Mall - DAMAGE RETURN",
         "OHUA",
         "Unavailable",
         "OH",
         "On Hand"
        ],
        [
         "RET-621",
         "SOFT Ross Park - DAMAGE RETURN",
         "OHUA",
         "Unavailable",
         "OH",
         "On Hand"
        ],
        [
         "RET-623",
         "SOFT Hunt Valley - DAMAGE RETURN",
         "OHUA",
         "Unavailable",
         "OH",
         "On Hand"
        ],
        [
         "RET-625",
         "SOFT Galleria Edina - DAMAGE RETURN",
         "OHUA",
         "Unavailable",
         "OH",
         "On Hand"
        ],
        [
         "RET-627",
         "SOFT Mall in Columbia - DAMAGE RETURN",
         "OHUA",
         "Unavailable",
         "OH",
         "On Hand"
        ],
        [
         "RET-629",
         "SOFT Montgomery Village - DAMAGE RETURN",
         "OHUA",
         "Unavailable",
         "OH",
         "On Hand"
        ],
        [
         "RET-631",
         "SOFT Victoria Gardens - DAMAGE RETURN",
         "OHUA",
         "Unavailable",
         "OH",
         "On Hand"
        ],
        [
         "RET-633",
         "SOFT Sagemore - DAMAGE RETURN",
         "OHUA",
         "Unavailable",
         "OH",
         "On Hand"
        ],
        [
         "RET-635",
         "SOFT Susquehanna - DAMAGE RETURN",
         "OHUA",
         "Unavailable",
         "OH",
         "On Hand"
        ],
        [
         "RET-637",
         "SOFT New 2018 Store 1 - DAMAGE RETURN",
         "OHUA",
         "Unavailable",
         "OH",
         "On Hand"
        ],
        [
         "RET-639",
         "SOFT The Villages - DAMAGE RETURN",
         "OHUA",
         "Unavailable",
         "OH",
         "On Hand"
        ],
        [
         "RET-641",
         "SOFT 2018 New Store 1 - DAMAGE RETURN",
         "OHUA",
         "Unavailable",
         "OH",
         "On Hand"
        ],
        [
         "RET-643",
         "SOFT Broadway Plaza - DAMAGE RETURN",
         "OHUA",
         "Unavailable",
         "OH",
         "On Hand"
        ],
        [
         "RET-645",
         "SOFT The Falls - DAMAGE RETURN",
         "OHUA",
         "Unavailable",
         "OH",
         "On Hand"
        ],
        [
         "RET-647",
         "SOFT Biltmore Village - DAMAGE RETURN",
         "OHUA",
         "Unavailable",
         "OH",
         "On Hand"
        ],
        [
         "RET-649",
         "SOFT St Johns Town Center - DAMAGE RETURN",
         "OHUA",
         "Unavailable",
         "OH",
         "On Hand"
        ],
        [
         "RET-651",
         "SOFT Village at Meridian - DAMAGE RETURN",
         "OHUA",
         "Unavailable",
         "OH",
         "On Hand"
        ],
        [
         "RET-653",
         "SOFT Shops at Rossmoor - DAMAGE RETURN",
         "OHUA",
         "Unavailable",
         "OH",
         "On Hand"
        ],
        [
         "RET-655",
         "SOFT Shops on El Paseo - DAMAGE RETURN",
         "OHUA",
         "Unavailable",
         "OH",
         "On Hand"
        ],
        [
         "RET-657",
         "SOFT Lakeside Shopping Ctr - DAMAGE RETURN",
         "OHUA",
         "Unavailable",
         "OH",
         "On Hand"
        ],
        [
         "RET-659",
         "SOFT Mall at Green Hills - DAMAGE RETURN",
         "OHUA",
         "Unavailable",
         "OH",
         "On Hand"
        ],
        [
         "RET-661",
         "SOFT Alderwood Mall - DAMAGE RETURN",
         "OHUA",
         "Unavailable",
         "OH",
         "On Hand"
        ],
        [
         "RET-663",
         "SOFT Streets at Southpoint - DAMAGE RETURN",
         "OHUA",
         "Unavailable",
         "OH",
         "On Hand"
        ],
        [
         "RET-665",
         "SOFT Kingsgate Center - DAMAGE RETURN",
         "OHUA",
         "Unavailable",
         "OH",
         "On Hand"
        ],
        [
         "RET-667",
         "SOFT Danbury Fair Mall - DAMAGE RETURN",
         "OHUA",
         "Unavailable",
         "OH",
         "On Hand"
        ],
        [
         "RET-669",
         "SOFT International Plaza - DAMAGE RETURN",
         "OHUA",
         "Unavailable",
         "OH",
         "On Hand"
        ],
        [
         "RET-87",
         "ITEM DESTROY-CARRIER",
         "OHUA",
         "Unavailable",
         "OH",
         "On Hand"
        ],
        [
         "RET-88",
         "ITEM DONATED-CARRIER",
         "OHUA",
         "Unavailable",
         "OH",
         "On Hand"
        ],
        [
         "RET-90",
         "DESTROY ITEM-CUSTOMER",
         "OHUA",
         "Unavailable",
         "OH",
         "On Hand"
        ],
        [
         "RET-91",
         "DESTROY ITEM-INHOUSE",
         "OHUA",
         "Unavailable",
         "OH",
         "On Hand"
        ],
        [
         "INV-24",
         "Moved to Lost",
         "OHUA",
         "Unavailable",
         "OH",
         "On Hand"
        ],
        [
         "INV-4000",
         "Order Processing",
         "OHUA",
         "Unavailable",
         "OH",
         "On Hand"
        ],
        [
         "INV-08",
         "Size adjustment needed cross sells",
         "OHUA",
         "Unavailable",
         "OH",
         "On Hand"
        ],
        [
         "INV-12",
         "To correct for actual quantity on hand",
         "OHUA",
         "Unavailable",
         "OH",
         "On Hand"
        ],
        [
         "INV-14",
         "Sample ?",
         "OHUA",
         "Unavailable",
         "OH",
         "On Hand"
        ],
        [
         "INV-17",
         "Carrier Claims",
         "OHUA",
         "Unavailable",
         "OH",
         "On Hand"
        ],
        [
         "INV-18",
         "Sent to Merch",
         "OHUA",
         "Unavailable",
         "OH",
         "On Hand"
        ],
        [
         "INV-19",
         "Sent to Technical Design",
         "OHUA",
         "Unavailable",
         "OH",
         "On Hand"
        ],
        [
         "INV-21",
         "Internal Transfer",
         "OHUA",
         "Unavailable",
         "OH",
         "On Hand"
        ],
        [
         "INV-23",
         "Saving for T.O.P.",
         "OHUA",
         "Unavailable",
         "OH",
         "On Hand"
        ],
        [
         "INV-25",
         "Parts Depletion",
         "OHUA",
         "Unavailable",
         "OH",
         "On Hand"
        ],
        [
         "INV-26",
         "Store Transfer",
         "OHUA",
         "Unavailable",
         "OH",
         "On Hand"
        ],
        [
         "INV-30",
         "Liquidation",
         "OHUA",
         "Unavailable",
         "OH",
         "On Hand"
        ],
        [
         "INV-91",
         "Miller WHS",
         "OHUA",
         "Unavailable",
         "OH",
         "On Hand"
        ],
        [
         "INV-99",
         "Other",
         "OHUA",
         "Unavailable",
         "OH",
         "On Hand"
        ],
        [
         "RET-50",
         "CUST RTN TO DS VENDOR",
         "OHUA",
         "Unavailable",
         "OH",
         "On Hand"
        ],
        [
         "INV-5000",
         "Work In Progress",
         "OHUA",
         "Unavailable",
         "OH",
         "On Hand"
        ]
       ],
       "datasetInfos": [],
       "dbfsResultPath": null,
       "isJsonSchema": true,
       "metadata": {},
       "overflow": false,
       "plotOptions": {
        "customPlotOptions": {},
        "displayType": "table",
        "pivotAggregation": null,
        "pivotColumns": null,
        "xColumns": null,
        "yColumns": null
       },
       "removedWidgets": [],
       "schema": [
        {
         "metadata": "{}",
         "name": "code_id",
         "type": "\"string\""
        },
        {
         "metadata": "{}",
         "name": "code_label",
         "type": "\"string\""
        },
        {
         "metadata": "{}",
         "name": "bckt_id",
         "type": "\"string\""
        },
        {
         "metadata": "{}",
         "name": "bckt_label",
         "type": "\"string\""
        },
        {
         "metadata": "{}",
         "name": "ownrshp_id",
         "type": "\"string\""
        },
        {
         "metadata": "{}",
         "name": "ownrshp_label",
         "type": "\"string\""
        }
       ],
       "type": "table"
      }
     },
     "output_type": "display_data"
    }
   ],
   "source": [
    "#data.display(10)"
   ]
  },
  {
   "cell_type": "code",
   "execution_count": 0,
   "metadata": {
    "application/vnd.databricks.v1+cell": {
     "cellMetadata": {
      "byteLimit": 2048000,
      "rowLimit": 10000
     },
     "inputWidgets": {},
     "nuid": "796c2b76-763b-4ac0-86b9-008f4260aef2",
     "showTitle": false,
     "title": ""
    }
   },
   "outputs": [
    {
     "output_type": "display_data",
     "data": {
      "text/html": [
       "<style scoped>\n",
       "  .table-result-container {\n",
       "    max-height: 300px;\n",
       "    overflow: auto;\n",
       "  }\n",
       "  table, th, td {\n",
       "    border: 1px solid black;\n",
       "    border-collapse: collapse;\n",
       "  }\n",
       "  th, td {\n",
       "    padding: 5px;\n",
       "  }\n",
       "  th {\n",
       "    text-align: left;\n",
       "  }\n",
       "</style><div class='table-result-container'><table class='table-result'><thead style='background-color: white'><tr><th>code_id</th><th>code_label</th><th>bckt_id</th><th>bckt_label</th><th>ownrshp_id</th><th>ownrshp_label</th></tr></thead><tbody><tr><td>0</td><td>0</td><td>0</td><td>0</td><td>0</td><td>0</td></tr></tbody></table></div>"
      ]
     },
     "metadata": {
      "application/vnd.databricks.v1+output": {
       "addedWidgets": {},
       "aggData": [],
       "aggError": "",
       "aggOverflow": false,
       "aggSchema": [],
       "aggSeriesLimitReached": false,
       "aggType": "",
       "arguments": {},
       "columnCustomDisplayInfos": {},
       "data": [
        [
         0,
         0,
         0,
         0,
         0,
         0
        ]
       ],
       "datasetInfos": [],
       "dbfsResultPath": null,
       "isJsonSchema": true,
       "metadata": {},
       "overflow": false,
       "plotOptions": {
        "customPlotOptions": {},
        "displayType": "table",
        "pivotAggregation": null,
        "pivotColumns": null,
        "xColumns": null,
        "yColumns": null
       },
       "removedWidgets": [],
       "schema": [
        {
         "metadata": "{}",
         "name": "code_id",
         "type": "\"long\""
        },
        {
         "metadata": "{}",
         "name": "code_label",
         "type": "\"long\""
        },
        {
         "metadata": "{}",
         "name": "bckt_id",
         "type": "\"long\""
        },
        {
         "metadata": "{}",
         "name": "bckt_label",
         "type": "\"long\""
        },
        {
         "metadata": "{}",
         "name": "ownrshp_id",
         "type": "\"long\""
        },
        {
         "metadata": "{}",
         "name": "ownrshp_label",
         "type": "\"long\""
        }
       ],
       "type": "table"
      }
     },
     "output_type": "display_data"
    }
   ],
   "source": [
    "# checking for null values in the columns\n",
    "#data.select([count(when(isnan(c)|col(c).isNull(),c)).alias(c) for c in data.columns]).display()"
   ]
  },
  {
   "cell_type": "code",
   "execution_count": 0,
   "metadata": {
    "application/vnd.databricks.v1+cell": {
     "cellMetadata": {
      "byteLimit": 2048000,
      "rowLimit": 10000
     },
     "inputWidgets": {},
     "nuid": "20f38443-37cc-4fd7-b52f-9302cee34da6",
     "showTitle": false,
     "title": ""
    }
   },
   "outputs": [
    {
     "output_type": "execute_result",
     "data": {
      "text/plain": [
       "[('code_id', 'string'),\n",
       " ('code_label', 'string'),\n",
       " ('bckt_id', 'string'),\n",
       " ('bckt_label', 'string'),\n",
       " ('ownrshp_id', 'string'),\n",
       " ('ownrshp_label', 'string')]"
      ]
     },
     "execution_count": 9,
     "metadata": {},
     "output_type": "execute_result"
    }
   ],
   "source": [
    "#data.dtypes"
   ]
  },
  {
   "cell_type": "code",
   "execution_count": 0,
   "metadata": {
    "application/vnd.databricks.v1+cell": {
     "cellMetadata": {},
     "inputWidgets": {},
     "nuid": "7319278c-2702-44ed-ad91-2bd239c287c3",
     "showTitle": false,
     "title": ""
    }
   },
   "outputs": [],
   "source": [
    "data = data.dropDuplicates()"
   ]
  },
  {
   "cell_type": "code",
   "execution_count": 0,
   "metadata": {
    "application/vnd.databricks.v1+cell": {
     "cellMetadata": {
      "byteLimit": 2048000,
      "rowLimit": 10000
     },
     "inputWidgets": {},
     "nuid": "3c47b306-c362-4dbf-988b-37aa0890ca3d",
     "showTitle": false,
     "title": ""
    }
   },
   "outputs": [],
   "source": [
    "# Boiler plate code for specific operation\n",
    "# write cleaned data to the staging dat\n",
    "output_container_path = 'abfss://stagingdata@nnrgsblobacc.dfs.core.windows.net/'\n",
    "data.coalesce(1).write.mode('append').option('header' ,'True').format('com.databricks.spark.csv').save(output_container_path)\n",
    "files = dbutils.fs.ls(output_container_path) \n",
    "output_file = [x for x in files if x.name.startswith('part-')]  # To read only part files\n",
    "dbutils.fs.mv(output_file[0].path,\"%s/DimStatus.csv\" % output_container_path )\n",
    "files_to_delete = [file.path for file in files if file.name.startswith('_')]\n",
    "for file_path in files_to_delete:\n",
    "    dbutils.fs.rm(file_path, True)"
   ]
  }
 ],
 "metadata": {
  "application/vnd.databricks.v1+notebook": {
   "dashboards": [],
   "language": "python",
   "notebookMetadata": {
    "mostRecentlyExecutedCommandWithImplicitDF": {
     "commandId": 3629027496679106,
     "dataframes": [
      "_sqldf"
     ]
    },
    "pythonIndentUnit": 4
   },
   "notebookName": "DimStatus_TF",
   "widgets": {}
  }
 },
 "nbformat": 4,
 "nbformat_minor": 0
}
