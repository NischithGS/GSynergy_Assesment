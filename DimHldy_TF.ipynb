{
 "cells": [
  {
   "cell_type": "code",
   "execution_count": 0,
   "metadata": {
    "application/vnd.databricks.v1+cell": {
     "cellMetadata": {
      "byteLimit": 2048000,
      "rowLimit": 10000
     },
     "inputWidgets": {},
     "nuid": "6410b0f7-baa5-4e80-8fcb-73fbec95148d",
     "showTitle": false,
     "title": ""
    }
   },
   "outputs": [],
   "source": [
    "import pyspark\n",
    "from pyspark.sql.functions import *"
   ]
  },
  {
   "cell_type": "code",
   "execution_count": 0,
   "metadata": {
    "application/vnd.databricks.v1+cell": {
     "cellMetadata": {
      "byteLimit": 2048000,
      "rowLimit": 10000
     },
     "inputWidgets": {},
     "nuid": "423b6ab3-ae36-4444-b033-72f29111fb84",
     "showTitle": false,
     "title": ""
    }
   },
   "outputs": [],
   "source": [
    "spark.conf.set(\n",
    "    \"fs.azure.account.key.nnrgsblobacc.dfs.core.windows.net\",\n",
    "    \"KOC7m5T3SJnlbUb4P19ep2pbo2PIYAdadSUN9EOxSbcvp7y5OPOAR7ozRXFqnC2hJrh8WA1B+V3E+AStoZvUNQ==\"\n",
    ")"
   ]
  },
  {
   "cell_type": "code",
   "execution_count": 0,
   "metadata": {
    "application/vnd.databricks.v1+cell": {
     "cellMetadata": {
      "byteLimit": 2048000,
      "rowLimit": 10000
     },
     "inputWidgets": {},
     "nuid": "d0160e09-aca8-48ee-8b13-81de39f16972",
     "showTitle": false,
     "title": ""
    }
   },
   "outputs": [
    {
     "output_type": "display_data",
     "data": {
      "text/html": [
       "<style scoped>\n",
       "  .table-result-container {\n",
       "    max-height: 300px;\n",
       "    overflow: auto;\n",
       "  }\n",
       "  table, th, td {\n",
       "    border: 1px solid black;\n",
       "    border-collapse: collapse;\n",
       "  }\n",
       "  th, td {\n",
       "    padding: 5px;\n",
       "  }\n",
       "  th {\n",
       "    text-align: left;\n",
       "  }\n",
       "</style><div class='table-result-container'><table class='table-result'><thead style='background-color: white'><tr><th>path</th><th>name</th><th>size</th><th>modificationTime</th></tr></thead><tbody><tr><td>abfss://assesment@nnrgsblobacc.dfs.core.windows.net/fact.averagecosts.dlm</td><td>fact.averagecosts.dlm</td><td>29142959</td><td>1713418287000</td></tr><tr><td>abfss://assesment@nnrgsblobacc.dfs.core.windows.net/fact.transactions.dlm</td><td>fact.transactions.dlm</td><td>380631122</td><td>1713418336000</td></tr><tr><td>abfss://assesment@nnrgsblobacc.dfs.core.windows.net/hier.clnd.dlm</td><td>hier.clnd.dlm</td><td>276119</td><td>1713418279000</td></tr><tr><td>abfss://assesment@nnrgsblobacc.dfs.core.windows.net/hier.hldy.dlm</td><td>hier.hldy.dlm</td><td>545</td><td>1713418278000</td></tr><tr><td>abfss://assesment@nnrgsblobacc.dfs.core.windows.net/hier.invloc.dlm</td><td>hier.invloc.dlm</td><td>2702</td><td>1713418278000</td></tr><tr><td>abfss://assesment@nnrgsblobacc.dfs.core.windows.net/hier.invstatus.dlm</td><td>hier.invstatus.dlm</td><td>17004</td><td>1713418279000</td></tr><tr><td>abfss://assesment@nnrgsblobacc.dfs.core.windows.net/hier.possite.dlm</td><td>hier.possite.dlm</td><td>5079</td><td>1713418279000</td></tr><tr><td>abfss://assesment@nnrgsblobacc.dfs.core.windows.net/hier.pricestate.dlm</td><td>hier.pricestate.dlm</td><td>157</td><td>1713418279000</td></tr><tr><td>abfss://assesment@nnrgsblobacc.dfs.core.windows.net/hier.prod.dlm</td><td>hier.prod.dlm</td><td>194621</td><td>1713418280000</td></tr><tr><td>abfss://assesment@nnrgsblobacc.dfs.core.windows.net/hier.rtlloc.dlm</td><td>hier.rtlloc.dlm</td><td>3456</td><td>1713418280000</td></tr></tbody></table></div>"
      ]
     },
     "metadata": {
      "application/vnd.databricks.v1+output": {
       "addedWidgets": {},
       "aggData": [],
       "aggError": "",
       "aggOverflow": false,
       "aggSchema": [],
       "aggSeriesLimitReached": false,
       "aggType": "",
       "arguments": {},
       "columnCustomDisplayInfos": {},
       "data": [
        [
         "abfss://assesment@nnrgsblobacc.dfs.core.windows.net/fact.averagecosts.dlm",
         "fact.averagecosts.dlm",
         29142959,
         1713418287000
        ],
        [
         "abfss://assesment@nnrgsblobacc.dfs.core.windows.net/fact.transactions.dlm",
         "fact.transactions.dlm",
         380631122,
         1713418336000
        ],
        [
         "abfss://assesment@nnrgsblobacc.dfs.core.windows.net/hier.clnd.dlm",
         "hier.clnd.dlm",
         276119,
         1713418279000
        ],
        [
         "abfss://assesment@nnrgsblobacc.dfs.core.windows.net/hier.hldy.dlm",
         "hier.hldy.dlm",
         545,
         1713418278000
        ],
        [
         "abfss://assesment@nnrgsblobacc.dfs.core.windows.net/hier.invloc.dlm",
         "hier.invloc.dlm",
         2702,
         1713418278000
        ],
        [
         "abfss://assesment@nnrgsblobacc.dfs.core.windows.net/hier.invstatus.dlm",
         "hier.invstatus.dlm",
         17004,
         1713418279000
        ],
        [
         "abfss://assesment@nnrgsblobacc.dfs.core.windows.net/hier.possite.dlm",
         "hier.possite.dlm",
         5079,
         1713418279000
        ],
        [
         "abfss://assesment@nnrgsblobacc.dfs.core.windows.net/hier.pricestate.dlm",
         "hier.pricestate.dlm",
         157,
         1713418279000
        ],
        [
         "abfss://assesment@nnrgsblobacc.dfs.core.windows.net/hier.prod.dlm",
         "hier.prod.dlm",
         194621,
         1713418280000
        ],
        [
         "abfss://assesment@nnrgsblobacc.dfs.core.windows.net/hier.rtlloc.dlm",
         "hier.rtlloc.dlm",
         3456,
         1713418280000
        ]
       ],
       "datasetInfos": [],
       "dbfsResultPath": null,
       "isJsonSchema": true,
       "metadata": {},
       "overflow": false,
       "plotOptions": {
        "customPlotOptions": {},
        "displayType": "table",
        "pivotAggregation": null,
        "pivotColumns": null,
        "xColumns": null,
        "yColumns": null
       },
       "removedWidgets": [],
       "schema": [
        {
         "metadata": "{}",
         "name": "path",
         "type": "\"string\""
        },
        {
         "metadata": "{}",
         "name": "name",
         "type": "\"string\""
        },
        {
         "metadata": "{}",
         "name": "size",
         "type": "\"long\""
        },
        {
         "metadata": "{}",
         "name": "modificationTime",
         "type": "\"long\""
        }
       ],
       "type": "table"
      }
     },
     "output_type": "display_data"
    }
   ],
   "source": [
    "#display(dbutils.fs.ls(\"abfss://assesment@nnrgsblobacc.dfs.core.windows.net\"))"
   ]
  },
  {
   "cell_type": "code",
   "execution_count": 0,
   "metadata": {
    "application/vnd.databricks.v1+cell": {
     "cellMetadata": {
      "byteLimit": 2048000,
      "rowLimit": 10000
     },
     "inputWidgets": {},
     "nuid": "067692a4-811b-4819-98a8-b6fd2bb52b57",
     "showTitle": false,
     "title": ""
    }
   },
   "outputs": [],
   "source": [
    "data = spark.read.option(\"header\", True).option('inferSchema', True).option(\"delimiter\", \"|\").csv('abfss://assesment@nnrgsblobacc.dfs.core.windows.net/hier.hldy.dlm')\n"
   ]
  },
  {
   "cell_type": "code",
   "execution_count": 0,
   "metadata": {
    "application/vnd.databricks.v1+cell": {
     "cellMetadata": {
      "byteLimit": 2048000,
      "rowLimit": 10000
     },
     "inputWidgets": {},
     "nuid": "dd241e56-29e6-4890-b26b-82a86f731173",
     "showTitle": false,
     "title": ""
    }
   },
   "outputs": [
    {
     "output_type": "execute_result",
     "data": {
      "text/plain": [
       "(2, 19)"
      ]
     },
     "execution_count": 13,
     "metadata": {},
     "output_type": "execute_result"
    }
   ],
   "source": [
    "#len(data.columns), data.count()"
   ]
  },
  {
   "cell_type": "code",
   "execution_count": 0,
   "metadata": {
    "application/vnd.databricks.v1+cell": {
     "cellMetadata": {
      "byteLimit": 2048000,
      "rowLimit": 10000
     },
     "inputWidgets": {},
     "nuid": "899d300f-1cc7-4eb4-bd91-438c5a2e6e2d",
     "showTitle": false,
     "title": ""
    }
   },
   "outputs": [
    {
     "output_type": "display_data",
     "data": {
      "text/html": [
       "<style scoped>\n",
       "  .table-result-container {\n",
       "    max-height: 300px;\n",
       "    overflow: auto;\n",
       "  }\n",
       "  table, th, td {\n",
       "    border: 1px solid black;\n",
       "    border-collapse: collapse;\n",
       "  }\n",
       "  th, td {\n",
       "    padding: 5px;\n",
       "  }\n",
       "  th {\n",
       "    text-align: left;\n",
       "  }\n",
       "</style><div class='table-result-container'><table class='table-result'><thead style='background-color: white'><tr><th>hldy_id</th><th>hldy_label</th></tr></thead><tbody><tr><td>Valentines_Day</td><td>Valentine's Day</td></tr><tr><td>Presidents_Day</td><td>Presidents Day</td></tr><tr><td>St_Patricks_Day</td><td>St. Patrick's Day</td></tr><tr><td>Easter</td><td>Easter</td></tr><tr><td>Mothers_Day</td><td>Mother's Day</td></tr><tr><td>Memorial_Day</td><td>Memorial Day</td></tr><tr><td>Fathers_Day</td><td>Father's Day</td></tr><tr><td>Independence_Day</td><td>Independence Day</td></tr><tr><td>Labor_Day</td><td>Labor Day</td></tr><tr><td>Rosh_Hashanah</td><td>Rosh Hashanah</td></tr><tr><td>Yom_Kippur</td><td>Yom Kippur</td></tr><tr><td>Columbus_Day</td><td>Columbus Day</td></tr><tr><td>Halloween</td><td>Halloween</td></tr><tr><td>Election_Day</td><td>Election Day</td></tr><tr><td>Veterans_Day</td><td>Veterans Day</td></tr><tr><td>Thanksgiving</td><td>Thanksgiving</td></tr><tr><td>Christmas</td><td>Christmas</td></tr><tr><td>New_Years_Day</td><td>New Year's Day</td></tr><tr><td>Martin_Luther_King_Day</td><td>Martin Luther King Day</td></tr></tbody></table></div>"
      ]
     },
     "metadata": {
      "application/vnd.databricks.v1+output": {
       "addedWidgets": {},
       "aggData": [],
       "aggError": "",
       "aggOverflow": false,
       "aggSchema": [],
       "aggSeriesLimitReached": false,
       "aggType": "",
       "arguments": {},
       "columnCustomDisplayInfos": {},
       "data": [
        [
         "Valentines_Day",
         "Valentine's Day"
        ],
        [
         "Presidents_Day",
         "Presidents Day"
        ],
        [
         "St_Patricks_Day",
         "St. Patrick's Day"
        ],
        [
         "Easter",
         "Easter"
        ],
        [
         "Mothers_Day",
         "Mother's Day"
        ],
        [
         "Memorial_Day",
         "Memorial Day"
        ],
        [
         "Fathers_Day",
         "Father's Day"
        ],
        [
         "Independence_Day",
         "Independence Day"
        ],
        [
         "Labor_Day",
         "Labor Day"
        ],
        [
         "Rosh_Hashanah",
         "Rosh Hashanah"
        ],
        [
         "Yom_Kippur",
         "Yom Kippur"
        ],
        [
         "Columbus_Day",
         "Columbus Day"
        ],
        [
         "Halloween",
         "Halloween"
        ],
        [
         "Election_Day",
         "Election Day"
        ],
        [
         "Veterans_Day",
         "Veterans Day"
        ],
        [
         "Thanksgiving",
         "Thanksgiving"
        ],
        [
         "Christmas",
         "Christmas"
        ],
        [
         "New_Years_Day",
         "New Year's Day"
        ],
        [
         "Martin_Luther_King_Day",
         "Martin Luther King Day"
        ]
       ],
       "datasetInfos": [],
       "dbfsResultPath": null,
       "isJsonSchema": true,
       "metadata": {},
       "overflow": false,
       "plotOptions": {
        "customPlotOptions": {},
        "displayType": "table",
        "pivotAggregation": null,
        "pivotColumns": null,
        "xColumns": null,
        "yColumns": null
       },
       "removedWidgets": [],
       "schema": [
        {
         "metadata": "{}",
         "name": "hldy_id",
         "type": "\"string\""
        },
        {
         "metadata": "{}",
         "name": "hldy_label",
         "type": "\"string\""
        }
       ],
       "type": "table"
      }
     },
     "output_type": "display_data"
    }
   ],
   "source": [
    "#data.display()"
   ]
  },
  {
   "cell_type": "code",
   "execution_count": 0,
   "metadata": {
    "application/vnd.databricks.v1+cell": {
     "cellMetadata": {
      "byteLimit": 2048000,
      "rowLimit": 10000
     },
     "inputWidgets": {},
     "nuid": "20f38443-37cc-4fd7-b52f-9302cee34da6",
     "showTitle": false,
     "title": ""
    }
   },
   "outputs": [
    {
     "output_type": "execute_result",
     "data": {
      "text/plain": [
       "[('hldy_id', 'string'), ('hldy_label', 'string')]"
      ]
     },
     "execution_count": 14,
     "metadata": {},
     "output_type": "execute_result"
    }
   ],
   "source": [
    "#data.dtypes"
   ]
  },
  {
   "cell_type": "code",
   "execution_count": 0,
   "metadata": {
    "application/vnd.databricks.v1+cell": {
     "cellMetadata": {
      "byteLimit": 2048000,
      "rowLimit": 10000
     },
     "inputWidgets": {},
     "nuid": "6b116a4a-96e7-4abe-a3af-3ab5ff2f1f75",
     "showTitle": false,
     "title": ""
    }
   },
   "outputs": [
    {
     "output_type": "execute_result",
     "data": {
      "text/plain": [
       "DataFrame[hldy_id: string, hldy_label: string]"
      ]
     },
     "execution_count": 8,
     "metadata": {},
     "output_type": "execute_result"
    }
   ],
   "source": [
    "data.drop_duplicates()"
   ]
  },
  {
   "cell_type": "code",
   "execution_count": 0,
   "metadata": {
    "application/vnd.databricks.v1+cell": {
     "cellMetadata": {
      "byteLimit": 2048000,
      "rowLimit": 10000
     },
     "inputWidgets": {},
     "nuid": "3c47b306-c362-4dbf-988b-37aa0890ca3d",
     "showTitle": false,
     "title": ""
    }
   },
   "outputs": [],
   "source": [
    "# Boiler plate code for specific operation\n",
    "# write cleaned data to the staging dat\n",
    "output_container_path = 'abfss://stagingdata@nnrgsblobacc.dfs.core.windows.net/'\n",
    "data.coalesce(1).write.mode('append').option('header' ,'True').format('com.databricks.spark.csv').save(output_container_path)\n",
    "files = dbutils.fs.ls(output_container_path) \n",
    "output_file = [x for x in files if x.name.startswith('part-')]  # To read only part files\n",
    "dbutils.fs.mv(output_file[0].path,\"%s/DimHldy.csv\" % output_container_path )\n",
    "files_to_delete = [file.path for file in files if file.name.startswith('_')]\n",
    "for file_path in files_to_delete:\n",
    "    dbutils.fs.rm(file_path, True)"
   ]
  }
 ],
 "metadata": {
  "application/vnd.databricks.v1+notebook": {
   "dashboards": [],
   "language": "python",
   "notebookMetadata": {
    "mostRecentlyExecutedCommandWithImplicitDF": {
     "commandId": 1769886630707604,
     "dataframes": [
      "_sqldf"
     ]
    },
    "pythonIndentUnit": 4
   },
   "notebookName": "DimHldy_TF",
   "widgets": {}
  }
 },
 "nbformat": 4,
 "nbformat_minor": 0
}
