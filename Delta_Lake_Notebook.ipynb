{
 "cells": [
  {
   "cell_type": "code",
   "execution_count": 0,
   "metadata": {
    "application/vnd.databricks.v1+cell": {
     "cellMetadata": {
      "byteLimit": 2048000,
      "rowLimit": 10000
     },
     "inputWidgets": {},
     "nuid": "a28658c1-7df0-492b-8810-3222e849bd60",
     "showTitle": false,
     "title": ""
    }
   },
   "outputs": [],
   "source": [
    "import pyspark\n",
    "from pyspark.sql.functions import *"
   ]
  },
  {
   "cell_type": "code",
   "execution_count": 0,
   "metadata": {
    "application/vnd.databricks.v1+cell": {
     "cellMetadata": {
      "byteLimit": 2048000,
      "rowLimit": 10000
     },
     "inputWidgets": {},
     "nuid": "f73e348c-50e7-4dd5-89b0-7df95320ec3b",
     "showTitle": false,
     "title": ""
    }
   },
   "outputs": [],
   "source": [
    "spark.conf.set(\n",
    "    \"fs.azure.account.key.nnrgsblobacc.dfs.core.windows.net\",\n",
    "    \"KOC7m5T3SJnlbUb4P19ep2pbo2PIYAdadSUN9EOxSbcvp7y5OPOAR7ozRXFqnC2hJrh8WA1B+V3E+AStoZvUNQ==\"\n",
    ")"
   ]
  },
  {
   "cell_type": "code",
   "execution_count": 0,
   "metadata": {
    "application/vnd.databricks.v1+cell": {
     "cellMetadata": {
      "byteLimit": 2048000,
      "rowLimit": 10000
     },
     "inputWidgets": {},
     "nuid": "5e519866-23b9-42e7-adde-4bcf78435784",
     "showTitle": false,
     "title": ""
    }
   },
   "outputs": [
    {
     "output_type": "display_data",
     "data": {
      "text/html": [
       "<style scoped>\n",
       "  .table-result-container {\n",
       "    max-height: 300px;\n",
       "    overflow: auto;\n",
       "  }\n",
       "  table, th, td {\n",
       "    border: 1px solid black;\n",
       "    border-collapse: collapse;\n",
       "  }\n",
       "  th, td {\n",
       "    padding: 5px;\n",
       "  }\n",
       "  th {\n",
       "    text-align: left;\n",
       "  }\n",
       "</style><div class='table-result-container'><table class='table-result'><thead style='background-color: white'><tr><th>path</th><th>name</th><th>size</th><th>modificationTime</th></tr></thead><tbody><tr><td>abfss://stagingdata@nnrgsblobacc.dfs.core.windows.net/DimClnd.csv</td><td>DimClnd.csv</td><td>288859</td><td>1713532923000</td></tr><tr><td>abfss://stagingdata@nnrgsblobacc.dfs.core.windows.net/DimHldy.csv</td><td>DimHldy.csv</td><td>527</td><td>1713532957000</td></tr><tr><td>abfss://stagingdata@nnrgsblobacc.dfs.core.windows.net/DimLoc.csv</td><td>DimLoc.csv</td><td>2702</td><td>1713532993000</td></tr><tr><td>abfss://stagingdata@nnrgsblobacc.dfs.core.windows.net/DimPossite.csv</td><td>DimPossite.csv</td><td>5079</td><td>1713533015000</td></tr><tr><td>abfss://stagingdata@nnrgsblobacc.dfs.core.windows.net/DimPriceStat.csv</td><td>DimPriceStat.csv</td><td>157</td><td>1713533036000</td></tr><tr><td>abfss://stagingdata@nnrgsblobacc.dfs.core.windows.net/DimProduct.csv</td><td>DimProduct.csv</td><td>194790</td><td>1713533057000</td></tr><tr><td>abfss://stagingdata@nnrgsblobacc.dfs.core.windows.net/DimRtlLoc.csv</td><td>DimRtlLoc.csv</td><td>3456</td><td>1713533081000</td></tr><tr><td>abfss://stagingdata@nnrgsblobacc.dfs.core.windows.net/DimStatus.csv</td><td>DimStatus.csv</td><td>17004</td><td>1713533102000</td></tr><tr><td>abfss://stagingdata@nnrgsblobacc.dfs.core.windows.net/FactAvgCost.csv</td><td>FactAvgCost.csv</td><td>22490287</td><td>1713533132000</td></tr><tr><td>abfss://stagingdata@nnrgsblobacc.dfs.core.windows.net/FactTransn.csv</td><td>FactTransn.csv</td><td>388528791</td><td>1713533222000</td></tr></tbody></table></div>"
      ]
     },
     "metadata": {
      "application/vnd.databricks.v1+output": {
       "addedWidgets": {},
       "aggData": [],
       "aggError": "",
       "aggOverflow": false,
       "aggSchema": [],
       "aggSeriesLimitReached": false,
       "aggType": "",
       "arguments": {},
       "columnCustomDisplayInfos": {},
       "data": [
        [
         "abfss://stagingdata@nnrgsblobacc.dfs.core.windows.net/DimClnd.csv",
         "DimClnd.csv",
         288859,
         1713532923000
        ],
        [
         "abfss://stagingdata@nnrgsblobacc.dfs.core.windows.net/DimHldy.csv",
         "DimHldy.csv",
         527,
         1713532957000
        ],
        [
         "abfss://stagingdata@nnrgsblobacc.dfs.core.windows.net/DimLoc.csv",
         "DimLoc.csv",
         2702,
         1713532993000
        ],
        [
         "abfss://stagingdata@nnrgsblobacc.dfs.core.windows.net/DimPossite.csv",
         "DimPossite.csv",
         5079,
         1713533015000
        ],
        [
         "abfss://stagingdata@nnrgsblobacc.dfs.core.windows.net/DimPriceStat.csv",
         "DimPriceStat.csv",
         157,
         1713533036000
        ],
        [
         "abfss://stagingdata@nnrgsblobacc.dfs.core.windows.net/DimProduct.csv",
         "DimProduct.csv",
         194790,
         1713533057000
        ],
        [
         "abfss://stagingdata@nnrgsblobacc.dfs.core.windows.net/DimRtlLoc.csv",
         "DimRtlLoc.csv",
         3456,
         1713533081000
        ],
        [
         "abfss://stagingdata@nnrgsblobacc.dfs.core.windows.net/DimStatus.csv",
         "DimStatus.csv",
         17004,
         1713533102000
        ],
        [
         "abfss://stagingdata@nnrgsblobacc.dfs.core.windows.net/FactAvgCost.csv",
         "FactAvgCost.csv",
         22490287,
         1713533132000
        ],
        [
         "abfss://stagingdata@nnrgsblobacc.dfs.core.windows.net/FactTransn.csv",
         "FactTransn.csv",
         388528791,
         1713533222000
        ]
       ],
       "datasetInfos": [],
       "dbfsResultPath": null,
       "isJsonSchema": true,
       "metadata": {},
       "overflow": false,
       "plotOptions": {
        "customPlotOptions": {},
        "displayType": "table",
        "pivotAggregation": null,
        "pivotColumns": null,
        "xColumns": null,
        "yColumns": null
       },
       "removedWidgets": [],
       "schema": [
        {
         "metadata": "{}",
         "name": "path",
         "type": "\"string\""
        },
        {
         "metadata": "{}",
         "name": "name",
         "type": "\"string\""
        },
        {
         "metadata": "{}",
         "name": "size",
         "type": "\"long\""
        },
        {
         "metadata": "{}",
         "name": "modificationTime",
         "type": "\"long\""
        }
       ],
       "type": "table"
      }
     },
     "output_type": "display_data"
    }
   ],
   "source": [
    "display(dbutils.fs.ls(\"abfss://stagingdata@nnrgsblobacc.dfs.core.windows.net\"))"
   ]
  },
  {
   "cell_type": "code",
   "execution_count": 0,
   "metadata": {
    "application/vnd.databricks.v1+cell": {
     "cellMetadata": {
      "byteLimit": 2048000,
      "rowLimit": 10000
     },
     "inputWidgets": {},
     "nuid": "e6e058d6-2f0a-42d3-a323-82bc90c6e957",
     "showTitle": false,
     "title": ""
    }
   },
   "outputs": [],
   "source": [
    "DimClnd_data = spark.read .option(\"header\", True).option('inferSchema', True).option(\"delimiter\", \",\").csv('abfss://stagingdata@nnrgsblobacc.dfs.core.windows.net/DimClnd.csv')\n",
    "DimClnd_data.write.format('delta').mode('overwrite').saveAsTable('DimClnd_TB')\n"
   ]
  },
  {
   "cell_type": "code",
   "execution_count": 0,
   "metadata": {
    "application/vnd.databricks.v1+cell": {
     "cellMetadata": {
      "byteLimit": 2048000,
      "rowLimit": 10000
     },
     "inputWidgets": {},
     "nuid": "a5d879c2-6fa4-493b-80ea-cabf0fc09d24",
     "showTitle": false,
     "title": ""
    }
   },
   "outputs": [],
   "source": [
    "DimHldy_data = spark.read .option(\"header\", True).option('inferSchema', True).option(\"delimiter\", \",\").csv('abfss://stagingdata@nnrgsblobacc.dfs.core.windows.net/DimHldy.csv')\n",
    "DimHldy_data.write.format('delta').mode('overwrite').saveAsTable('DimHldy_TB')"
   ]
  },
  {
   "cell_type": "code",
   "execution_count": 0,
   "metadata": {
    "application/vnd.databricks.v1+cell": {
     "cellMetadata": {
      "byteLimit": 2048000,
      "rowLimit": 10000
     },
     "inputWidgets": {},
     "nuid": "9cce093a-8701-4c7a-b1a5-072f5c1ac103",
     "showTitle": false,
     "title": ""
    }
   },
   "outputs": [],
   "source": [
    "DimLoc_data = spark.read .option(\"header\", True).option('inferSchema', True).option(\"delimiter\", \",\").csv('abfss://stagingdata@nnrgsblobacc.dfs.core.windows.net/DimLoc.csv')\n",
    "DimLoc_data.write.format('delta').mode('overwrite').saveAsTable('DimLoc_TB')"
   ]
  },
  {
   "cell_type": "code",
   "execution_count": 0,
   "metadata": {
    "application/vnd.databricks.v1+cell": {
     "cellMetadata": {
      "byteLimit": 2048000,
      "rowLimit": 10000
     },
     "inputWidgets": {},
     "nuid": "2798e77e-c7b9-4cd0-8a30-3888e32cbd0c",
     "showTitle": false,
     "title": ""
    }
   },
   "outputs": [],
   "source": [
    "DimPossite_data = spark.read .option(\"header\", True).option('inferSchema', True).option(\"delimiter\", \",\").csv('abfss://stagingdata@nnrgsblobacc.dfs.core.windows.net/DimPossite.csv')\n",
    "DimPossite_data.write.format('delta').mode('overwrite').saveAsTable('DimPossite_TB')"
   ]
  },
  {
   "cell_type": "code",
   "execution_count": 0,
   "metadata": {
    "application/vnd.databricks.v1+cell": {
     "cellMetadata": {
      "byteLimit": 2048000,
      "rowLimit": 10000
     },
     "inputWidgets": {},
     "nuid": "e94f4478-45d9-4675-8f35-e11928a3b540",
     "showTitle": false,
     "title": ""
    }
   },
   "outputs": [],
   "source": [
    "DimPriceStat_data = spark.read .option(\"header\", True).option('inferSchema', True).option(\"delimiter\", \",\").csv('abfss://stagingdata@nnrgsblobacc.dfs.core.windows.net/DimPriceStat.csv')\n",
    "DimPriceStat_data.write.format('delta').mode('overwrite').saveAsTable('DimPriceStat_TB')"
   ]
  },
  {
   "cell_type": "code",
   "execution_count": 0,
   "metadata": {
    "application/vnd.databricks.v1+cell": {
     "cellMetadata": {
      "byteLimit": 2048000,
      "rowLimit": 10000
     },
     "inputWidgets": {},
     "nuid": "5341cfbe-272d-45b0-ab6d-3c6f4a7aa712",
     "showTitle": false,
     "title": ""
    }
   },
   "outputs": [],
   "source": [
    "DimProduct_data = spark.read .option(\"header\", True).option('inferSchema', True).option(\"delimiter\", \",\").csv('abfss://stagingdata@nnrgsblobacc.dfs.core.windows.net/DimProduct.csv')\n",
    "DimProduct_data.write.format('delta').mode('overwrite').saveAsTable('DimProduct_TB')"
   ]
  },
  {
   "cell_type": "code",
   "execution_count": 0,
   "metadata": {
    "application/vnd.databricks.v1+cell": {
     "cellMetadata": {
      "byteLimit": 2048000,
      "rowLimit": 10000
     },
     "inputWidgets": {},
     "nuid": "16030068-8602-444f-83ea-05c622c2e5a2",
     "showTitle": false,
     "title": ""
    }
   },
   "outputs": [],
   "source": [
    "DimRtlLoc_data = spark.read .option(\"header\", True).option('inferSchema', True).option(\"delimiter\", \",\").csv('abfss://stagingdata@nnrgsblobacc.dfs.core.windows.net/DimRtlLoc.csv')\n",
    "DimRtlLoc_data.write.format('delta').mode('overwrite').saveAsTable('DimRtlLoc_TB')"
   ]
  },
  {
   "cell_type": "code",
   "execution_count": 0,
   "metadata": {
    "application/vnd.databricks.v1+cell": {
     "cellMetadata": {
      "byteLimit": 2048000,
      "rowLimit": 10000
     },
     "inputWidgets": {},
     "nuid": "be66bd04-8b31-420d-8ccd-663fcfa1b0b2",
     "showTitle": false,
     "title": ""
    }
   },
   "outputs": [],
   "source": [
    "DimStatus_data = spark.read .option(\"header\", True).option('inferSchema', True).option(\"delimiter\", \",\").csv('abfss://stagingdata@nnrgsblobacc.dfs.core.windows.net/DimStatus.csv')\n",
    "DimStatus_data.write.format('delta').mode('overwrite').saveAsTable('DimStatus_TB')"
   ]
  },
  {
   "cell_type": "code",
   "execution_count": 0,
   "metadata": {
    "application/vnd.databricks.v1+cell": {
     "cellMetadata": {
      "byteLimit": 2048000,
      "rowLimit": 10000
     },
     "inputWidgets": {},
     "nuid": "ef825a02-f488-4f5d-81f8-25854cf0326e",
     "showTitle": false,
     "title": ""
    }
   },
   "outputs": [],
   "source": [
    "FactAvgCost_data = spark.read .option(\"header\", True).option('inferSchema', True).option(\"delimiter\", \",\").csv('abfss://stagingdata@nnrgsblobacc.dfs.core.windows.net/FactAvgCost.csv')\n",
    "FactAvgCost_data.write.format('delta').mode('overwrite').saveAsTable('FactAvgCost_TB')"
   ]
  },
  {
   "cell_type": "code",
   "execution_count": 0,
   "metadata": {
    "application/vnd.databricks.v1+cell": {
     "cellMetadata": {
      "byteLimit": 2048000,
      "rowLimit": 10000
     },
     "inputWidgets": {},
     "nuid": "5137d872-444c-4e89-af37-6aa9501e8df6",
     "showTitle": false,
     "title": ""
    }
   },
   "outputs": [],
   "source": [
    "FactTransn_data = spark.read .option(\"header\", True).option('inferSchema', True).option(\"delimiter\", \",\").csv('abfss://stagingdata@nnrgsblobacc.dfs.core.windows.net/FactTransn.csv')\n",
    "FactTransn_data.write.format('delta').mode('overwrite').saveAsTable('FactTransn_TB')"
   ]
  },
  {
   "cell_type": "code",
   "execution_count": 0,
   "metadata": {
    "application/vnd.databricks.v1+cell": {
     "cellMetadata": {
      "byteLimit": 2048000,
      "implicitDf": true,
      "rowLimit": 10000
     },
     "inputWidgets": {},
     "nuid": "a78d4cb9-6309-4430-ae95-4f48ad416b82",
     "showTitle": false,
     "title": ""
    }
   },
   "outputs": [
    {
     "output_type": "display_data",
     "data": {
      "text/html": [
       "<style scoped>\n",
       "  .table-result-container {\n",
       "    max-height: 300px;\n",
       "    overflow: auto;\n",
       "  }\n",
       "  table, th, td {\n",
       "    border: 1px solid black;\n",
       "    border-collapse: collapse;\n",
       "  }\n",
       "  th, td {\n",
       "    padding: 5px;\n",
       "  }\n",
       "  th {\n",
       "    text-align: left;\n",
       "  }\n",
       "</style><div class='table-result-container'><table class='table-result'><thead style='background-color: white'><tr><th>order_id</th><th>line_id</th><th>type</th><th>dt</th><th>pos_site_id</th><th>sku_id</th><th>fscldt_id</th><th>price_substate_id</th><th>sales_units</th><th>sales_dollars</th><th>discount_dollars</th></tr></thead><tbody><tr><td>160201133110184</td><td>3</td><td>Sale</td><td>2016-02-01T20:49:37Z</td><td>133</td><td>0174451000</td><td>20160201</td><td>FP</td><td>1</td><td>28.75</td><td>0.0</td></tr><tr><td>164094653</td><td>10</td><td>Sale</td><td>2016-02-02T17:31:51Z</td><td>CATMAIN</td><td>0487611000</td><td>20160202</td><td>FP</td><td>1</td><td>21.25</td><td>3.75</td></tr><tr><td>164096345</td><td>1</td><td>Sale</td><td>2016-02-02T22:15:32Z</td><td>CATMAIN</td><td>0505490000</td><td>20160202</td><td>FP</td><td>1</td><td>45.0</td><td>0.0</td></tr><tr><td>164101762</td><td>3</td><td>Sale</td><td>2016-02-03T22:59:58Z</td><td>INETMAIN</td><td>2668931601</td><td>20160203</td><td>FP</td><td>1</td><td>58.95</td><td>0.0</td></tr><tr><td>160205137216060</td><td>5</td><td>Sale</td><td>2016-02-05T19:44:25Z</td><td>137</td><td>0487611000</td><td>20160205</td><td>FP</td><td>1</td><td>24.04</td><td>0.96</td></tr></tbody></table></div>"
      ]
     },
     "metadata": {
      "application/vnd.databricks.v1+output": {
       "addedWidgets": {},
       "aggData": [],
       "aggError": "",
       "aggOverflow": false,
       "aggSchema": [],
       "aggSeriesLimitReached": false,
       "aggType": "",
       "arguments": {},
       "columnCustomDisplayInfos": {},
       "data": [
        [
         160201133110184,
         3,
         "Sale",
         "2016-02-01T20:49:37Z",
         "133",
         "0174451000",
         20160201,
         "FP",
         1,
         28.75,
         0.0
        ],
        [
         164094653,
         10,
         "Sale",
         "2016-02-02T17:31:51Z",
         "CATMAIN",
         "0487611000",
         20160202,
         "FP",
         1,
         21.25,
         3.75
        ],
        [
         164096345,
         1,
         "Sale",
         "2016-02-02T22:15:32Z",
         "CATMAIN",
         "0505490000",
         20160202,
         "FP",
         1,
         45.0,
         0.0
        ],
        [
         164101762,
         3,
         "Sale",
         "2016-02-03T22:59:58Z",
         "INETMAIN",
         "2668931601",
         20160203,
         "FP",
         1,
         58.95,
         0.0
        ],
        [
         160205137216060,
         5,
         "Sale",
         "2016-02-05T19:44:25Z",
         "137",
         "0487611000",
         20160205,
         "FP",
         1,
         24.04,
         0.96
        ]
       ],
       "datasetInfos": [],
       "dbfsResultPath": null,
       "isJsonSchema": true,
       "metadata": {
        "dataframeName": "_sqldf",
        "executionCount": 20
       },
       "overflow": false,
       "plotOptions": {
        "customPlotOptions": {},
        "displayType": "table",
        "pivotAggregation": null,
        "pivotColumns": null,
        "xColumns": null,
        "yColumns": null
       },
       "removedWidgets": [],
       "schema": [
        {
         "metadata": "{}",
         "name": "order_id",
         "type": "\"long\""
        },
        {
         "metadata": "{}",
         "name": "line_id",
         "type": "\"integer\""
        },
        {
         "metadata": "{}",
         "name": "type",
         "type": "\"string\""
        },
        {
         "metadata": "{}",
         "name": "dt",
         "type": "\"timestamp\""
        },
        {
         "metadata": "{}",
         "name": "pos_site_id",
         "type": "\"string\""
        },
        {
         "metadata": "{}",
         "name": "sku_id",
         "type": "\"string\""
        },
        {
         "metadata": "{}",
         "name": "fscldt_id",
         "type": "\"integer\""
        },
        {
         "metadata": "{}",
         "name": "price_substate_id",
         "type": "\"string\""
        },
        {
         "metadata": "{}",
         "name": "sales_units",
         "type": "\"integer\""
        },
        {
         "metadata": "{}",
         "name": "sales_dollars",
         "type": "\"double\""
        },
        {
         "metadata": "{}",
         "name": "discount_dollars",
         "type": "\"double\""
        }
       ],
       "type": "table"
      }
     },
     "output_type": "display_data"
    }
   ],
   "source": [
    "%sql \n",
    "select * from FactTransn_TB limit 5;"
   ]
  },
  {
   "cell_type": "code",
   "execution_count": 0,
   "metadata": {
    "application/vnd.databricks.v1+cell": {
     "cellMetadata": {
      "byteLimit": 2048000,
      "implicitDf": true,
      "rowLimit": 10000
     },
     "inputWidgets": {},
     "nuid": "600e3067-5ea7-42ca-a352-358055dd9376",
     "showTitle": false,
     "title": ""
    }
   },
   "outputs": [
    {
     "output_type": "display_data",
     "data": {
      "text/html": [
       "<style scoped>\n",
       "  .table-result-container {\n",
       "    max-height: 300px;\n",
       "    overflow: auto;\n",
       "  }\n",
       "  table, th, td {\n",
       "    border: 1px solid black;\n",
       "    border-collapse: collapse;\n",
       "  }\n",
       "  th, td {\n",
       "    padding: 5px;\n",
       "  }\n",
       "  th {\n",
       "    text-align: left;\n",
       "  }\n",
       "</style><div class='table-result-container'><table class='table-result'><thead style='background-color: white'><tr><th>num_affected_rows</th><th>num_inserted_rows</th></tr></thead><tbody></tbody></table></div>"
      ]
     },
     "metadata": {
      "application/vnd.databricks.v1+output": {
       "addedWidgets": {},
       "aggData": [],
       "aggError": "",
       "aggOverflow": false,
       "aggSchema": [],
       "aggSeriesLimitReached": false,
       "aggType": "",
       "arguments": {},
       "columnCustomDisplayInfos": {},
       "data": [],
       "datasetInfos": [],
       "dbfsResultPath": null,
       "isJsonSchema": true,
       "metadata": {
        "dataframeName": "_sqldf",
        "executionCount": 1
       },
       "overflow": false,
       "plotOptions": {
        "customPlotOptions": {},
        "displayType": "table",
        "pivotAggregation": null,
        "pivotColumns": null,
        "xColumns": null,
        "yColumns": null
       },
       "removedWidgets": [],
       "schema": [
        {
         "metadata": "{}",
         "name": "num_affected_rows",
         "type": "\"long\""
        },
        {
         "metadata": "{}",
         "name": "num_inserted_rows",
         "type": "\"long\""
        }
       ],
       "type": "table"
      }
     },
     "output_type": "display_data"
    }
   ],
   "source": [
    "%sql \n",
    "CREATE TABLE mview_weekly_sales AS \n",
    "SELECT\n",
    "    pos_site_id,\n",
    "    sku_id,\n",
    "    fscldt_id,\n",
    "    price_substate_id,\n",
    "    type,\n",
    "    SUM(sales_units) AS total_sales_units,\n",
    "    SUM(sales_dollars) AS total_sales_dollars,\n",
    "    SUM(discount_dollars) AS total_discount_dollars\n",
    "FROM\n",
    "    FactTransn_TB\n",
    "GROUP BY\n",
    "    pos_site_id,\n",
    "    sku_id,\n",
    "    fscldt_id,\n",
    "    price_substate_id,\n",
    "    type;"
   ]
  },
  {
   "cell_type": "code",
   "execution_count": 0,
   "metadata": {
    "application/vnd.databricks.v1+cell": {
     "cellMetadata": {
      "byteLimit": 2048000,
      "implicitDf": true,
      "rowLimit": 10000
     },
     "inputWidgets": {},
     "nuid": "7a818761-c682-48cc-8fae-15520115cd34",
     "showTitle": false,
     "title": ""
    }
   },
   "outputs": [
    {
     "output_type": "display_data",
     "data": {
      "text/html": [
       "<style scoped>\n",
       "  .table-result-container {\n",
       "    max-height: 300px;\n",
       "    overflow: auto;\n",
       "  }\n",
       "  table, th, td {\n",
       "    border: 1px solid black;\n",
       "    border-collapse: collapse;\n",
       "  }\n",
       "  th, td {\n",
       "    padding: 5px;\n",
       "  }\n",
       "  th {\n",
       "    text-align: left;\n",
       "  }\n",
       "</style><div class='table-result-container'><table class='table-result'><thead style='background-color: white'><tr><th>pos_site_id</th><th>sku_id</th><th>fscldt_id</th><th>price_substate_id</th><th>type</th><th>total_sales_units</th><th>total_sales_dollars</th><th>total_discount_dollars</th></tr></thead><tbody><tr><td>CATMAIN</td><td>3840520702</td><td>20160507</td><td>FP</td><td>Return</td><td>1</td><td>69.95</td><td>0.0</td></tr><tr><td>CATMAIN</td><td>0722490100</td><td>20160530</td><td>FP</td><td>Sale</td><td>19</td><td>467.5</td><td>7.5</td></tr><tr><td>CATMAIN</td><td>3666840802</td><td>20160628</td><td>FP</td><td>Sale</td><td>4</td><td>192.31</td><td>7.49</td></tr><tr><td>CATMAIN</td><td>2920980801</td><td>20160717</td><td>FP</td><td>Sale</td><td>3</td><td>149.85000000000002</td><td>0.0</td></tr><tr><td>CATMAIN</td><td>2668940801</td><td>20160723</td><td>FP</td><td>Sale</td><td>6</td><td>353.70000000000005</td><td>0.0</td></tr><tr><td>INETMAIN</td><td>1AH6310000</td><td>20161127</td><td>FP</td><td>Sale</td><td>240</td><td>59.95</td><td>14328.049999999985</td></tr><tr><td>CATMAIN</td><td>2797420801</td><td>20161207</td><td>FP</td><td>Sale</td><td>4</td><td>239.8</td><td>0.0</td></tr><tr><td>CATMAIN</td><td>0722490100</td><td>20161211</td><td>FP</td><td>Sale</td><td>5</td><td>125.0</td><td>0.0</td></tr><tr><td>CATMAIN</td><td>2230940206</td><td>20170719</td><td>FP</td><td>Sale</td><td>1</td><td>42.95</td><td>5.0</td></tr><tr><td>CATMAIN</td><td>2484840701</td><td>20171020</td><td>FP</td><td>Return</td><td>1</td><td>69.95</td><td>0.0</td></tr></tbody></table></div>"
      ]
     },
     "metadata": {
      "application/vnd.databricks.v1+output": {
       "addedWidgets": {},
       "aggData": [],
       "aggError": "",
       "aggOverflow": false,
       "aggSchema": [],
       "aggSeriesLimitReached": false,
       "aggType": "",
       "arguments": {},
       "columnCustomDisplayInfos": {},
       "data": [
        [
         "CATMAIN",
         "3840520702",
         20160507,
         "FP",
         "Return",
         1,
         69.95,
         0.0
        ],
        [
         "CATMAIN",
         "0722490100",
         20160530,
         "FP",
         "Sale",
         19,
         467.5,
         7.5
        ],
        [
         "CATMAIN",
         "3666840802",
         20160628,
         "FP",
         "Sale",
         4,
         192.31,
         7.49
        ],
        [
         "CATMAIN",
         "2920980801",
         20160717,
         "FP",
         "Sale",
         3,
         149.85000000000002,
         0.0
        ],
        [
         "CATMAIN",
         "2668940801",
         20160723,
         "FP",
         "Sale",
         6,
         353.70000000000005,
         0.0
        ],
        [
         "INETMAIN",
         "1AH6310000",
         20161127,
         "FP",
         "Sale",
         240,
         59.95,
         14328.049999999985
        ],
        [
         "CATMAIN",
         "2797420801",
         20161207,
         "FP",
         "Sale",
         4,
         239.8,
         0.0
        ],
        [
         "CATMAIN",
         "0722490100",
         20161211,
         "FP",
         "Sale",
         5,
         125.0,
         0.0
        ],
        [
         "CATMAIN",
         "2230940206",
         20170719,
         "FP",
         "Sale",
         1,
         42.95,
         5.0
        ],
        [
         "CATMAIN",
         "2484840701",
         20171020,
         "FP",
         "Return",
         1,
         69.95,
         0.0
        ]
       ],
       "datasetInfos": [],
       "dbfsResultPath": null,
       "isJsonSchema": true,
       "metadata": {
        "dataframeName": "_sqldf",
        "executionCount": 2
       },
       "overflow": false,
       "plotOptions": {
        "customPlotOptions": {},
        "displayType": "table",
        "pivotAggregation": null,
        "pivotColumns": null,
        "xColumns": null,
        "yColumns": null
       },
       "removedWidgets": [],
       "schema": [
        {
         "metadata": "{}",
         "name": "pos_site_id",
         "type": "\"string\""
        },
        {
         "metadata": "{}",
         "name": "sku_id",
         "type": "\"string\""
        },
        {
         "metadata": "{}",
         "name": "fscldt_id",
         "type": "\"integer\""
        },
        {
         "metadata": "{}",
         "name": "price_substate_id",
         "type": "\"string\""
        },
        {
         "metadata": "{}",
         "name": "type",
         "type": "\"string\""
        },
        {
         "metadata": "{}",
         "name": "total_sales_units",
         "type": "\"long\""
        },
        {
         "metadata": "{}",
         "name": "total_sales_dollars",
         "type": "\"double\""
        },
        {
         "metadata": "{}",
         "name": "total_discount_dollars",
         "type": "\"double\""
        }
       ],
       "type": "table"
      }
     },
     "output_type": "display_data"
    }
   ],
   "source": [
    "%sql \n",
    "SELECT * from mview_weekly_sales limit 10;"
   ]
  },
  {
   "cell_type": "code",
   "execution_count": 0,
   "metadata": {
    "application/vnd.databricks.v1+cell": {
     "cellMetadata": {},
     "inputWidgets": {},
     "nuid": "0660ab82-e7a9-4412-9510-433940d46df0",
     "showTitle": false,
     "title": ""
    }
   },
   "outputs": [],
   "source": []
  },
  {
   "cell_type": "code",
   "execution_count": 0,
   "metadata": {
    "application/vnd.databricks.v1+cell": {
     "cellMetadata": {},
     "inputWidgets": {},
     "nuid": "363610f0-f5cc-4841-babc-9c4c2e4d7e3b",
     "showTitle": false,
     "title": ""
    }
   },
   "outputs": [],
   "source": []
  }
 ],
 "metadata": {
  "application/vnd.databricks.v1+notebook": {
   "dashboards": [],
   "language": "python",
   "notebookMetadata": {
    "mostRecentlyExecutedCommandWithImplicitDF": {
     "commandId": 292279756998793,
     "dataframes": [
      "_sqldf"
     ]
    },
    "pythonIndentUnit": 4
   },
   "notebookName": "Delta_Lake_Notebook",
   "widgets": {}
  }
 },
 "nbformat": 4,
 "nbformat_minor": 0
}
